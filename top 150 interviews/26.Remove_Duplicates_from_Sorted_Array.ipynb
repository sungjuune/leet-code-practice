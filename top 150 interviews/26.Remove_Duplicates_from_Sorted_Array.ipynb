{
 "cells": [
  {
   "cell_type": "markdown",
   "metadata": {},
   "source": [
    "## Descriptions\n",
    "Given an integer array nums sorted in non-decreasing order, remove the duplicates in-place such that each unique element appears only once. The relative order of the elements should be kept the same. Then return the number of unique elements in nums.\n",
    "\n",
    "Consider the number of unique elements of nums to be k, to get accepted, you need to do the following things:\n",
    "\n",
    "Change the array nums such that the first k elements of nums contain the unique elements in the order they were present in nums initially. The remaining elements of nums are not important as well as the size of nums.\n",
    "\n",
    "Return k.\n"
   ]
  },
  {
   "cell_type": "markdown",
   "metadata": {},
   "source": [
    "## Examples\n",
    "### Example 1.\n",
    "Input: nums = [1,1,2]\n",
    "\n",
    "Output: 2, nums = [1,2,_]\n",
    "\n",
    "Explanation: Your function should return k = 2, with the first two elements of nums being 1 and 2 respectively. It does not matter what you leave beyond the returned k (hence they are underscores).\n",
    "\n",
    "### Example 2.\n",
    "Input: nums = [0,0,1,1,1,2,2,3,3,4]\n",
    "\n",
    "Output: 5, nums = [0,1,2,3,4,_,_,_,_,_]\n",
    "\n",
    "Explanation: Your function should return k = 5, with the first five elements of nums being 0, 1, 2, 3, and 4 respectively. It does not matter what you leave beyond the returned k (hence they are underscores)."
   ]
  },
  {
   "cell_type": "markdown",
   "metadata": {},
   "source": [
    "## My Solution\n",
    "```python\n",
    "class Solution:\n",
    "    def removeDuplicates(self, nums: List[int]) -> int:\n",
    "        idx = 0\n",
    "        while nums[idx] != nums[-1]:\n",
    "            if nums[idx] == nums[idx+1]:\n",
    "                nums.remove(nums[idx])\n",
    "            else:\n",
    "                idx+=1\n",
    "        return len(nums)\n",
    "```\n",
    "This solution passed the example cases [1,1,2] and [0,0,1,1,1,2,2,3,3,4], so I thought is was OK... But it had trouble in other cases when submitted!!!(e.g. [1,1], where the list only contains a single integer.) So I figured it was definitely the **while loop problem**. My initial solution did not consider this kind of scenario. Changing the while loop condition into ```while idx+1 < len(nums):``` solved all the problem!\n",
    "\n",
    "### Corrected Solution\n",
    "```python\n",
    "class Solution:\n",
    "    def removeDuplicates(self, nums: List[int]) -> int:\n",
    "        idx = 0\n",
    "        while idx+1 < len(nums):\n",
    "            if nums[idx] == nums[idx+1]:\n",
    "                nums.remove(nums[idx])\n",
    "            else:\n",
    "                idx+=1\n",
    "        return len(nums)\n",
    "```"
   ]
  },
  {
   "cell_type": "markdown",
   "metadata": {},
   "source": [
    "### Other Solution\n",
    "```python\n",
    "class Solution:\n",
    "    def removeDuplicates(self, nums: List[int]) -> int:\n",
    "        j = 1\n",
    "        for i in range(1, len(nums)):\n",
    "            if nums[i] != nums[i - 1]:\n",
    "                nums[j] = nums[i]\n",
    "                j += 1\n",
    "        return j\n",
    "```\n",
    "This solution from the board uses two pointers ```i``` and ```j```. Nice try, but is has trouble in [1,1] case also!!!"
   ]
  }
 ],
 "metadata": {
  "kernelspec": {
   "display_name": "bitrap",
   "language": "python",
   "name": "python3"
  },
  "language_info": {
   "codemirror_mode": {
    "name": "ipython",
    "version": 3
   },
   "file_extension": ".py",
   "mimetype": "text/x-python",
   "name": "python",
   "nbconvert_exporter": "python",
   "pygments_lexer": "ipython3",
   "version": "3.7.16"
  }
 },
 "nbformat": 4,
 "nbformat_minor": 2
}
