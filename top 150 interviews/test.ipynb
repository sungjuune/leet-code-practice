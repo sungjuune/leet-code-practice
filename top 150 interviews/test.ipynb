{
 "cells": [
  {
   "cell_type": "code",
   "execution_count": 36,
   "metadata": {},
   "outputs": [],
   "source": [
    "def maxProfit(prices):\n",
    "    original_prices = prices.copy()\n",
    "    prices.sort()\n",
    "\n",
    "    buy_val = prices[0]\n",
    "    buy_day = original_prices.index(prices[0])\n",
    "\n",
    "    if buy_day == len(original_prices)-1:\n",
    "        return 0\n",
    "    \n",
    "    future_prices = original_prices[buy_day+1:]\n",
    "    future_prices.sort()\n",
    "    sell_val = future_prices[-1]\n",
    "    \n",
    "    return sell_val - buy_val\n",
    "\n"
   ]
  },
  {
   "cell_type": "code",
   "execution_count": 186,
   "metadata": {},
   "outputs": [],
   "source": [
    "def maxProfit(prices):\n",
    "    profit = 0\n",
    "    for idx in range(len(prices)):\n",
    "        if idx == len(prices)-1:\n",
    "            break\n",
    "        future = prices[idx+1:]        \n",
    "        future.sort()\n",
    "        buy_val = prices[idx]\n",
    "        sell_val = future[-1]\n",
    "        profit_tmp = sell_val - buy_val\n",
    "        if profit_tmp > profit:\n",
    "            profit = profit_tmp\n",
    "    return profit\n",
    "\n"
   ]
  },
  {
   "cell_type": "code",
   "execution_count": 70,
   "metadata": {},
   "outputs": [
    {
     "data": {
      "text/plain": [
       "[1, 2, 3]"
      ]
     },
     "execution_count": 70,
     "metadata": {},
     "output_type": "execute_result"
    }
   ],
   "source": []
  },
  {
   "cell_type": "code",
   "execution_count": 178,
   "metadata": {},
   "outputs": [],
   "source": [
    "def maxProfit(prices):\n",
    "    if len(prices)==1:\n",
    "        return 0\n",
    "    \n",
    "    original_prices = prices.copy()\n",
    "    prices.sort()\n",
    "\n",
    "    buy_idx = 0\n",
    "    sell_idx = -1\n",
    "    \n",
    "    while buy_idx+abs(sell_idx) < len(prices)+1:\n",
    "        buy_val = prices[buy_idx]\n",
    "        sell_val = prices[sell_idx]\n",
    "\n",
    "        if original_prices.index(buy_val) == len(original_prices)-1:\n",
    "            if buy_idx + abs(sell_idx) == len(prices)-1:\n",
    "                return 0\n",
    "            buy_idx += 1\n",
    "            continue\n",
    "\n",
    "        if original_prices.index(buy_val) < original_prices.index(sell_val):\n",
    "            profit = sell_val - buy_val\n",
    "            break\n",
    "        else:\n",
    "            if buy_idx + abs(sell_idx) == len(prices)-1:\n",
    "                return 0\n",
    "            sell_idx -= 1\n",
    "            continue\n",
    "        \n",
    "    return profit"
   ]
  },
  {
   "cell_type": "code",
   "execution_count": 307,
   "metadata": {},
   "outputs": [],
   "source": [
    "def maxProfit(prices):\n",
    "    profit = 0\n",
    "    for idx in range(len(prices)-1):\n",
    "        sell_val = max(prices[idx+1:])\n",
    "        profit_tmp = sell_val - prices[idx]\n",
    "        if profit_tmp > profit:\n",
    "            profit = profit_tmp\n",
    "    return profit"
   ]
  },
  {
   "cell_type": "code",
   "execution_count": 357,
   "metadata": {},
   "outputs": [],
   "source": [
    "def maxProfit(prices):\n",
    "    # int_min = min(prices) \n",
    "    # print(int_min)\n",
    "    # lst_idx = prices.index(int_min)\n",
    "    # print(lst_idx)\n",
    "    # max_lst = [i for i in prices if (int_min < i) & (lst_idx < prices.index(i))]\n",
    "    # print(max_lst)\n",
    "    max_temp = []\n",
    "    for i in range(len(prices)):\n",
    "        temp = [j-prices[i] for j in prices[i+1:]]\n",
    "        # print(max(temp))\n",
    "        max_temp.append(max(temp) if 0 != len(temp) else 0)\n",
    "\n",
    "    return max(max_temp) if max(max_temp) > 0 else 0\n",
    "\n",
    "\n",
    "    # return max(max_lst) - int_min\n",
    "    # print(min_lst)"
   ]
  },
  {
   "cell_type": "code",
   "execution_count": 359,
   "metadata": {},
   "outputs": [
    {
     "data": {
      "text/plain": [
       "4"
      ]
     },
     "execution_count": 359,
     "metadata": {},
     "output_type": "execute_result"
    }
   ],
   "source": [
    "maxProfit([3,2,6,5,0,3])"
   ]
  },
  {
   "cell_type": "code",
   "execution_count": 360,
   "metadata": {},
   "outputs": [
    {
     "data": {
      "text/plain": [
       "0"
      ]
     },
     "execution_count": 360,
     "metadata": {},
     "output_type": "execute_result"
    }
   ],
   "source": [
    "maxProfit([2,1])"
   ]
  },
  {
   "cell_type": "code",
   "execution_count": 361,
   "metadata": {},
   "outputs": [
    {
     "data": {
      "text/plain": [
       "0"
      ]
     },
     "execution_count": 361,
     "metadata": {},
     "output_type": "execute_result"
    }
   ],
   "source": [
    "maxProfit([1])"
   ]
  },
  {
   "cell_type": "code",
   "execution_count": 362,
   "metadata": {},
   "outputs": [
    {
     "data": {
      "text/plain": [
       "5"
      ]
     },
     "execution_count": 362,
     "metadata": {},
     "output_type": "execute_result"
    }
   ],
   "source": [
    "maxProfit([7,1,5,3,6,4])"
   ]
  },
  {
   "cell_type": "code",
   "execution_count": 363,
   "metadata": {},
   "outputs": [
    {
     "data": {
      "text/plain": [
       "2"
      ]
     },
     "execution_count": 363,
     "metadata": {},
     "output_type": "execute_result"
    }
   ],
   "source": [
    "maxProfit([2,4,1])"
   ]
  },
  {
   "cell_type": "code",
   "execution_count": 364,
   "metadata": {},
   "outputs": [
    {
     "data": {
      "text/plain": [
       "0"
      ]
     },
     "execution_count": 364,
     "metadata": {},
     "output_type": "execute_result"
    }
   ],
   "source": [
    "maxProfit([7,6,4,3,1])"
   ]
  },
  {
   "cell_type": "code",
   "execution_count": 365,
   "metadata": {},
   "outputs": [],
   "source": [
    "# [7,1,5,3,6,4]\n",
    "# 5\n",
    "\n",
    "# [2,4,1]\n",
    "# 2"
   ]
  },
  {
   "cell_type": "code",
   "execution_count": null,
   "metadata": {},
   "outputs": [],
   "source": []
  }
 ],
 "metadata": {
  "kernelspec": {
   "display_name": "bitrap",
   "language": "python",
   "name": "python3"
  },
  "language_info": {
   "codemirror_mode": {
    "name": "ipython",
    "version": 3
   },
   "file_extension": ".py",
   "mimetype": "text/x-python",
   "name": "python",
   "nbconvert_exporter": "python",
   "pygments_lexer": "ipython3",
   "version": "3.7.16"
  }
 },
 "nbformat": 4,
 "nbformat_minor": 2
}
