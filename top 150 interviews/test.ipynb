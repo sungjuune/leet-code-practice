{
 "cells": [
  {
   "cell_type": "code",
   "execution_count": 45,
   "metadata": {},
   "outputs": [],
   "source": [
    "def loop(global_list,global_idx,sub_list,r):\n",
    "    print()\n",
    "    print(global_idx)\n",
    "    print(global_list)\n",
    "    print(sub_list)\n",
    "    while True:\n",
    "\n",
    "        if sub_list is not None and r<=sub_list[0]:\n",
    "            return True\n",
    "        \n",
    "        if sub_list is not None and sub_list[0]==0:\n",
    "            return False\n",
    "    \n",
    "        global_idx += 1\n",
    "        r -= 1\n",
    "        v = global_list[global_idx]\n",
    "        sub_list = global_list[global_idx:global_idx+v+1]\n",
    "        loop(global_list, global_idx, sub_list, r)\n",
    "\n",
    "\n",
    "\n",
    "def canJump(nums):\n",
    "    result = loop(nums,0, None, len(nums)-1)\n",
    "    return result\n",
    "\n",
    "\n",
    "\n",
    "\n",
    "\n",
    "\n",
    "    # idx = 0\n",
    "    # while True:\n",
    "\n",
    "    #     print()\n",
    "    #     print(\"idx:\",idx)\n",
    "\n",
    "    #     r = len(nums) - (idx+1)\n",
    "        \n",
    "    #     v = nums[idx]\n",
    "\n",
    "\n",
    "    #     print(\"r:\",r)\n",
    "    #     print(\"v:\",v)\n",
    "    #     if r <= v:\n",
    "    #         return True\n",
    "    #     else:\n",
    "    #         idx += 1\n",
    "    #         r -= 1"
   ]
  },
  {
   "cell_type": "code",
   "execution_count": 47,
   "metadata": {},
   "outputs": [
    {
     "name": "stdout",
     "output_type": "stream",
     "text": [
      "\n",
      "0\n",
      "[2, 3, 1, 1, 0, 4]\n",
      "None\n",
      "\n",
      "1\n",
      "[2, 3, 1, 1, 0, 4]\n",
      "[3, 1, 1, 0]\n",
      "\n",
      "2\n",
      "[2, 3, 1, 1, 0, 4]\n",
      "[1, 1]\n",
      "\n",
      "3\n",
      "[2, 3, 1, 1, 0, 4]\n",
      "[1, 0]\n",
      "\n",
      "4\n",
      "[2, 3, 1, 1, 0, 4]\n",
      "[0]\n",
      "\n",
      "4\n",
      "[2, 3, 1, 1, 0, 4]\n",
      "[0]\n",
      "\n",
      "3\n",
      "[2, 3, 1, 1, 0, 4]\n",
      "[1, 0]\n",
      "\n",
      "4\n",
      "[2, 3, 1, 1, 0, 4]\n",
      "[0]\n",
      "\n",
      "4\n",
      "[2, 3, 1, 1, 0, 4]\n",
      "[0]\n",
      "\n",
      "2\n",
      "[2, 3, 1, 1, 0, 4]\n",
      "[1, 1]\n",
      "\n",
      "3\n",
      "[2, 3, 1, 1, 0, 4]\n",
      "[1, 0]\n",
      "\n",
      "4\n",
      "[2, 3, 1, 1, 0, 4]\n",
      "[0]\n",
      "\n",
      "4\n",
      "[2, 3, 1, 1, 0, 4]\n",
      "[0]\n",
      "\n",
      "3\n",
      "[2, 3, 1, 1, 0, 4]\n",
      "[1, 0]\n",
      "\n",
      "4\n",
      "[2, 3, 1, 1, 0, 4]\n",
      "[0]\n",
      "\n",
      "4\n",
      "[2, 3, 1, 1, 0, 4]\n",
      "[0]\n"
     ]
    },
    {
     "data": {
      "text/plain": [
       "False"
      ]
     },
     "execution_count": 47,
     "metadata": {},
     "output_type": "execute_result"
    }
   ],
   "source": [
    "canJump([2,3,1,1,0,4])"
   ]
  },
  {
   "cell_type": "code",
   "execution_count": 48,
   "metadata": {},
   "outputs": [
    {
     "name": "stdout",
     "output_type": "stream",
     "text": [
      "\n",
      "0\n",
      "[2, 3, 1, 1, 4]\n",
      "None\n",
      "\n",
      "1\n",
      "[2, 3, 1, 1, 4]\n",
      "[3, 1, 1, 4]\n"
     ]
    },
    {
     "data": {
      "text/plain": [
       "True"
      ]
     },
     "execution_count": 48,
     "metadata": {},
     "output_type": "execute_result"
    }
   ],
   "source": [
    "nums = [2,3,1,1,4]\n",
    "canJump(nums)"
   ]
  },
  {
   "cell_type": "code",
   "execution_count": null,
   "metadata": {},
   "outputs": [],
   "source": []
  }
 ],
 "metadata": {
  "kernelspec": {
   "display_name": "bitrap",
   "language": "python",
   "name": "python3"
  },
  "language_info": {
   "codemirror_mode": {
    "name": "ipython",
    "version": 3
   },
   "file_extension": ".py",
   "mimetype": "text/x-python",
   "name": "python",
   "nbconvert_exporter": "python",
   "pygments_lexer": "ipython3",
   "version": "3.7.16"
  }
 },
 "nbformat": 4,
 "nbformat_minor": 2
}
