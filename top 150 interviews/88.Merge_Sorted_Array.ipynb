{
 "cells": [
  {
   "cell_type": "markdown",
   "metadata": {},
   "source": [
    "## Descriptions\n",
    "You are given two integer arrays nums1 and nums2, sorted in non-decreasing order, and two integers m and n, representing the number of elements in nums1 and nums2 respectively.\n",
    "\n",
    "Merge nums1 and nums2 into a single array sorted in non-decreasing order.\n",
    "\n",
    "The final sorted array should not be returned by the function, but instead be stored inside the array nums1. To accommodate this, nums1 has a length of m + n, where the first m elements denote the elements that should be merged, and the last n elements are set to 0 and should be ignored. nums2 has a length of n."
   ]
  },
  {
   "cell_type": "markdown",
   "metadata": {},
   "source": [
    "## Examples\n",
    "### Example 1.\n",
    "Input: nums1 = [1,2,3,0,0,0], m = 3, nums2 = [2,5,6], n = 3\n",
    "\n",
    "Output: [1,2,2,3,5,6]\n",
    "\n",
    "Explanation: The arrays we are merging are [1,2,3] and [2,5,6]. The result of the merge is [1,2,2,3,5,6] with the underlined elements coming from nums1.\n",
    "\n",
    "### Example 2.\n",
    "Input: nums1 = [1], m = 1, nums2 = [], n = 0\n",
    "\n",
    "Output: [1]\n",
    "\n",
    "Explanation: The arrays we are merging are [1] and []. The result of the merge is [1].\n",
    "\n",
    "### Example 3.\n",
    "Input: nums1 = [0], m = 0, nums2 = [1], n = 1\n",
    "\n",
    "Output: [1]\n",
    "\n",
    "Explanation: The arrays we are merging are [] and [1].The result of the merge is [1]. Note that because m = 0, there are no elements in nums1. The 0 is only there to ensure the merge result can fit in nums1."
   ]
  },
  {
   "cell_type": "markdown",
   "metadata": {},
   "source": [
    "## My Solution\n",
    "```python\n",
    "class Solution:\n",
    "    def merge(self, nums1: List[int], m: int, nums2: List[int], n: int) -> None:\n",
    "        \"\"\"\n",
    "        Do not return anything, modify nums1 in-place instead.\n",
    "        \"\"\"\n",
    "        nums1 = nums1[:m] + nums2[:n]\n",
    "        nums1.sort()\n",
    "```\n",
    "This initial solution of mine produced the expected outputs in my VSCode, but had trouble compiling in the LeetCode server. It was mainly due to my overlook of **'in-place modification'**, which seems like an important concept in the coding test environment. So, instead of ```\n",
    "nums1 = nums1[:m] + nums2[:n]```, do this:\n",
    "```python\n",
    "del nums1[m:]\n",
    "del nums2[n:]\n",
    "nums1 += nums2\n",
    "```\n",
    "\n",
    "### Correct Solution\n",
    "```python\n",
    "class Solution:\n",
    "    def merge(self, nums1: List[int], m: int, nums2: List[int], n: int) -> None:\n",
    "        \"\"\"\n",
    "        Do not return anything, modify nums1 in-place instead.\n",
    "        \"\"\"\n",
    "        del nums1[m:]\n",
    "        del nums2[n:]\n",
    "        nums1 += nums2\n",
    "        nums1.sort()\n",
    "```"
   ]
  }
 ],
 "metadata": {
  "language_info": {
   "name": "python"
  }
 },
 "nbformat": 4,
 "nbformat_minor": 2
}
