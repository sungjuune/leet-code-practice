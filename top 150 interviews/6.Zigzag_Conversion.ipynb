{
 "cells": [
  {
   "cell_type": "markdown",
   "metadata": {},
   "source": [
    "## Description\n",
    "The string ```\"PAYPALISHIRING\"``` is written in a zigzag pattern on a given number of rows like this: (you may want to display this pattern in a fixed font for better legibility)\n",
    "\n",
    "P   A   H   N \\\n",
    "A P L S I I G \\\n",
    "Y   I   R \n",
    "\n",
    "And then read line by line: ```\"PAHNAPLSIIGYIR\"```\n",
    "\n",
    "Write the code that will take a string and make this conversion given a number of rows:\n",
    "\n",
    "```string convert(string s, int numRows);```\n"
   ]
  },
  {
   "cell_type": "markdown",
   "metadata": {},
   "source": [
    "## Examples\n",
    "### Example 1.\n",
    "Input: s = \"PAYPALISHIRING\", numRows = 3\n",
    "\n",
    "Output: \"PAHNAPLSIIGYIR\"\n",
    "\n",
    "### Example 2.\n",
    "Input: s = \"PAYPALISHIRING\", numRows = 4\n",
    "\n",
    "Output: \"PINALSIGYAHRPI\"\n",
    "\n",
    "### Example 3.\n",
    "Input: s = \"A\", numRows = 1\n",
    "\n",
    "Output: \"A\""
   ]
  },
  {
   "cell_type": "markdown",
   "metadata": {},
   "source": [
    "### My Solution\n",
    "```python\n",
    "class Solution:\n",
    "    def convert(self, s: str, numRows: int) -> str:\n",
    "        if numRows == 1:\n",
    "            return s\n",
    "        lists = [[] for _ in range(numRows)]\n",
    "        pointer = 0\n",
    "        ascending = True\n",
    "\n",
    "        for idx, char in enumerate(s):\n",
    "            if pointer == numRows-1:\n",
    "                ascending = False\n",
    "            elif pointer == 0:\n",
    "                ascending = True\n",
    "\n",
    "            list_idx = pointer % (idx+1)\n",
    "            lists[list_idx].append(char)\n",
    "\n",
    "            if ascending:\n",
    "                pointer+=1\n",
    "            else:\n",
    "                pointer-=1\n",
    "        result = ''.join([''.join(strings) for strings in lists])\n",
    "        return result\n",
    "```\n",
    "\n",
    "Solves all the testcases, but major downside of this solution is that iterates through all the characters in the given string. Think I can do better...."
   ]
  }
 ],
 "metadata": {
  "kernelspec": {
   "display_name": "Python 3",
   "language": "python",
   "name": "python3"
  },
  "language_info": {
   "codemirror_mode": {
    "name": "ipython",
    "version": 3
   },
   "file_extension": ".py",
   "mimetype": "text/x-python",
   "name": "python",
   "nbconvert_exporter": "python",
   "pygments_lexer": "ipython3",
   "version": "3.9.18"
  }
 },
 "nbformat": 4,
 "nbformat_minor": 2
}
