{
 "cells": [
  {
   "cell_type": "markdown",
   "metadata": {},
   "source": [
    "## Descriptions\n",
    "Given an integer array nums sorted in non-decreasing order, remove some duplicates in-place such that each unique element appears at most twice. The relative order of the elements should be kept the same.\n",
    "\n",
    "Since it is impossible to change the length of the array in some languages, you must instead have the result be placed in the first part of the array nums. More formally, if there are k elements after removing the duplicates, then the first k elements of nums should hold the final result. It does not matter what you leave beyond the first k elements.\n",
    "\n",
    "Return k after placing the final result in the first k slots of nums.\n",
    "\n",
    "Do not allocate extra space for another array. You must do this by modifying the input array in-place with O(1) extra memory."
   ]
  },
  {
   "cell_type": "markdown",
   "metadata": {},
   "source": [
    "## Examples\n",
    "### Example 1.\n",
    "Input: nums = [1,1,1,2,2,3]\n",
    "\n",
    "Output: 5, nums = [1,1,2,2,3,_]\n",
    "\n",
    "Explanation: Your function should return k = 5, with the first five elements of nums being 1, 1, 2, 2 and 3 respectively. It does not matter what you leave beyond the returned k (hence they are underscores).\n",
    "\n",
    "### Example 2.\n",
    "Input: nums = [0,0,1,1,1,1,2,3,3]\n",
    "\n",
    "Output: 7, nums = [0,0,1,1,2,3,3,_,_]\n",
    "\n",
    "Explanation: Your function should return k = 7, with the first seven elements of nums being 0, 0, 1, 1, 2, 3 and 3 respectively. It does not matter what you leave beyond the returned k (hence they are underscores)."
   ]
  },
  {
   "cell_type": "markdown",
   "metadata": {},
   "source": [
    "## My Solution\n",
    "```python\n",
    "class Solution:\n",
    "    def removeDuplicates(self, nums: List[int]) -> int:\n",
    "        count = 1\n",
    "        idx = 0\n",
    "        while idx+1 < len(nums):\n",
    "            if nums[idx] == nums[idx+1]:\n",
    "                count += 1\n",
    "                if count > 2:\n",
    "                    nums.remove(nums[idx])\n",
    "                    idx -= 1\n",
    "                idx += 1    \n",
    "            else:\n",
    "                idx += 1\n",
    "                count = 1\n",
    "        return len(nums)\n",
    "```\n",
    "An upgrade version of `26.Remove Duplicates from Sorted Array`. Requires to leave at most two elements of same integer. Used additional variable `count` to count the elements of same integer along the way, which is initially set to ```1``` and reset to ```1``` after moving on to the next integer."
   ]
  },
  {
   "cell_type": "markdown",
   "metadata": {},
   "source": [
    "### Other Solution\n",
    "```python\n",
    "class Solution:\n",
    "    def removeDuplicates(self, nums: List[int]) -> int:\n",
    "        j = 1\n",
    "        for i in range(1, len(nums)):\n",
    "            if j == 1 or nums[i] != nums[j - 2]:\n",
    "                nums[j] = nums[i]\n",
    "                j += 1\n",
    "        return j\n",
    "```"
   ]
  },
  {
   "cell_type": "markdown",
   "metadata": {},
   "source": []
  }
 ],
 "metadata": {
  "kernelspec": {
   "display_name": "bitrap",
   "language": "python",
   "name": "python3"
  },
  "language_info": {
   "codemirror_mode": {
    "name": "ipython",
    "version": 3
   },
   "file_extension": ".py",
   "mimetype": "text/x-python",
   "name": "python",
   "nbconvert_exporter": "python",
   "pygments_lexer": "ipython3",
   "version": "3.7.16"
  }
 },
 "nbformat": 4,
 "nbformat_minor": 2
}
