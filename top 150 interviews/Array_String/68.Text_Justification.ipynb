{
 "cells": [
  {
   "cell_type": "code",
   "execution_count": 98,
   "metadata": {},
   "outputs": [],
   "source": [
    "words = [\"This\", \"is\", \"an\", \"example\", \"of\", \"text\", \"justification.\"]\n",
    "maxWidth = 16\n",
    "# [\n",
    "#    \"This    is    an\",\n",
    "#    \"example  of text\",\n",
    "#    \"justification.  \"\n",
    "# ]\n"
   ]
  },
  {
   "cell_type": "code",
   "execution_count": 99,
   "metadata": {},
   "outputs": [],
   "source": [
    "words_len = [len(word) for word in words]"
   ]
  },
  {
   "cell_type": "code",
   "execution_count": 100,
   "metadata": {},
   "outputs": [
    {
     "data": {
      "text/plain": [
       "[4, 2, 2, 7, 2, 4, 14]"
      ]
     },
     "execution_count": 100,
     "metadata": {},
     "output_type": "execute_result"
    }
   ],
   "source": [
    "words_len"
   ]
  },
  {
   "cell_type": "code",
   "execution_count": 119,
   "metadata": {},
   "outputs": [
    {
     "name": "stdout",
     "output_type": "stream",
     "text": [
      "['This']\n",
      "5\n",
      "['This', 'is']\n",
      "8\n",
      "['This', 'is', 'an']\n",
      "11\n",
      "\n",
      "['example']\n",
      "8\n",
      "['example', 'of']\n",
      "11\n",
      "['example', 'of', 'text']\n",
      "16\n",
      "\n",
      "['justification.']\n",
      "15\n",
      "2\n"
     ]
    }
   ],
   "source": [
    "curr_len = 0\n",
    "idx = 0\n",
    "result = []\n",
    "answer = []\n",
    "while True:\n",
    "    if curr_len + words_len[idx] >= maxWidth:\n",
    "        total_words = len(result)\n",
    "        curr_len -= 1\n",
    "        empty_len = ((maxWidth - curr_len)//2)+1\n",
    "        answer.append((' '*(empty_len)).join(result))\n",
    "\n",
    "        curr_len = 0\n",
    "        result = []\n",
    "        print()\n",
    "        continue\n",
    "\n",
    "    result.append(words[idx])\n",
    "    print(result)\n",
    "    curr_len += (words_len[idx]+1)\n",
    "    print(curr_len)\n",
    "\n",
    "    if idx == len(words)-1:\n",
    "        total_words = len(result)\n",
    "        curr_len -= 1\n",
    "        empty_len = ((maxWidth - curr_len)//2)+1\n",
    "        print(empty_len)\n",
    "        answer.append((' '*(empty_len)).join(result))\n",
    "        break\n",
    "\n",
    "\n",
    "    idx += 1\n",
    "    \n",
    "\n",
    "\n",
    "\n"
   ]
  },
  {
   "cell_type": "code",
   "execution_count": 120,
   "metadata": {},
   "outputs": [
    {
     "data": {
      "text/plain": [
       "['This    is    an', 'example of text', 'justification.']"
      ]
     },
     "execution_count": 120,
     "metadata": {},
     "output_type": "execute_result"
    }
   ],
   "source": [
    "answer"
   ]
  },
  {
   "cell_type": "code",
   "execution_count": null,
   "metadata": {},
   "outputs": [],
   "source": []
  }
 ],
 "metadata": {
  "kernelspec": {
   "display_name": "Python 3",
   "language": "python",
   "name": "python3"
  },
  "language_info": {
   "codemirror_mode": {
    "name": "ipython",
    "version": 3
   },
   "file_extension": ".py",
   "mimetype": "text/x-python",
   "name": "python",
   "nbconvert_exporter": "python",
   "pygments_lexer": "ipython3",
   "version": "3.9.18"
  }
 },
 "nbformat": 4,
 "nbformat_minor": 2
}
