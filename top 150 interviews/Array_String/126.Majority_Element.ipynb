{
 "cells": [
  {
   "cell_type": "markdown",
   "metadata": {},
   "source": [
    "## Description\n",
    "Given an array nums of size ```n```, return the majority element.\n",
    "\n",
    "The majority element is the element that appears more than ```⌊n / 2⌋``` times. You may assume that the majority element always exists in the array."
   ]
  },
  {
   "cell_type": "markdown",
   "metadata": {},
   "source": [
    "## Examples\n",
    "### Example 1.\n",
    "Input: nums = [3,2,3]\n",
    "\n",
    "Output: 3\n",
    "\n",
    "### Example 2.\n",
    "Input: nums = [2,2,1,1,1,2,2]\n",
    "\n",
    "Output: 2"
   ]
  },
  {
   "cell_type": "markdown",
   "metadata": {},
   "source": [
    "## My Solution\n",
    "```python\n",
    "class Solution:\n",
    "    def majorityElement(self, nums: List[int]) -> int:\n",
    "        maj_num = len(nums) // 2\n",
    "        maj_elem = 0\n",
    "        for idx in range(len(nums)):\n",
    "            cnt = nums.count(nums[idx])\n",
    "            if cnt > maj_num and cnt > maj_elem:\n",
    "                maj_elem = nums[idx]\n",
    "        return maj_elem\n",
    "```\n",
    "Passed 42 out of 51 test cases. Failed in cases where the length of the list is too long.\n",
    "```python\n",
    "class Solution:\n",
    "    def majorityElement(self, nums: List[int]) -> int:\n",
    "        maj_num = len(nums) // 2\n",
    "        maj_elem = 0\n",
    "        for idx in range(len(nums)):\n",
    "            cnt = nums.count(nums[idx])\n",
    "            if cnt > maj_num and cnt > maj_elem:\n",
    "                maj_elem = nums[idx]\n",
    "        return maj_elem\n",
    "```\n",
    "Again, passed 50 out of 51 test cases. Failed due to same reason.\n",
    "\n",
    "```python\n",
    "class Solution:\n",
    "    def majorityElement(self, nums: List[int]) -> int:\n",
    "        maj_num = len(nums) // 2\n",
    "        maj_elem = 0\n",
    "        nums.sort()\n",
    "        while len(nums) > 0:\n",
    "            cnt = nums.count(nums[0])\n",
    "            if cnt > maj_num and cnt > maj_elem:\n",
    "                maj_elem = nums[0]\n",
    "            nums = nums[cnt:]\n",
    "        return maj_elem\n",
    "```\n",
    "This didn't loop through all the elements in the list, so passed all the cases!"
   ]
  },
  {
   "cell_type": "code",
   "execution_count": null,
   "metadata": {},
   "outputs": [],
   "source": []
  }
 ],
 "metadata": {
  "kernelspec": {
   "display_name": "Python 3",
   "language": "python",
   "name": "python3"
  },
  "language_info": {
   "codemirror_mode": {
    "name": "ipython",
    "version": 3
   },
   "file_extension": ".py",
   "mimetype": "text/x-python",
   "name": "python",
   "nbconvert_exporter": "python",
   "pygments_lexer": "ipython3",
   "version": "3.9.18"
  }
 },
 "nbformat": 4,
 "nbformat_minor": 2
}
