{
 "cells": [
  {
   "cell_type": "markdown",
   "metadata": {},
   "source": [
    "## Description\n",
    "\n",
    "Implement the ```RandomizedSet``` class:\n",
    "\n",
    "- ```RandomizedSet()``` Initializes the ```RandomizedSet``` object. \n",
    "- ```bool insert(int val)``` Inserts an item ```val``` into the set if not present. Returns ```true``` if the item was not present, ```false``` otherwise.\n",
    "- ```bool remove(int val)``` Removes an item ```val``` from the set if present. Returns ```true``` if the item was present, ```false``` otherwise. \n",
    "- ```int getRandom()``` Returns a random element from the current set of elements (it's **guaranteed** that at least one element exists when this method is called). Each element must have the same probability of being returned. \n",
    "\n",
    "You must implement the functions of the class such that each function works in average ```O(1) ```time complexity."
   ]
  },
  {
   "cell_type": "markdown",
   "metadata": {},
   "source": [
    "## Examples\n",
    "### Example 1.\n",
    "Input \\ \n",
    "[\"RandomizedSet\", \"insert\", \"remove\", \"insert\", \"getRandom\", \"remove\", \"insert\", \"getRandom\"] \\\n",
    "[[], [1], [2], [2], [], [1], [2], []]\\\n",
    "\n",
    "Output \\\n",
    "[null, true, false, true, 2, true, false, 2] \\\n",
    "\n",
    "Explanation \\\n",
    "RandomizedSet randomizedSet = new RandomizedSet();\n",
    "\n",
    "randomizedSet.insert(1); // Inserts 1 to the set. Returns true as 1 was inserted successfully.\n",
    "\n",
    "randomizedSet.remove(2); // Returns false as 2 does not exist in the set.\n",
    "\n",
    "randomizedSet.insert(2); // Inserts 2 to the set, returns true. Set now contains [1,2].\n",
    "\n",
    "randomizedSet.getRandom(); // getRandom() should return either 1 or 2 randomly.\n",
    "\n",
    "randomizedSet.remove(1); // Removes 1 from the set, returns true. Set now contains [2].\n",
    "\n",
    "randomizedSet.insert(2); // 2 was already in the set, so return false.\n",
    "\n",
    "randomizedSet.getRandom(); // Since 2 is the only number in the set, getRandom() will always return 2.\n"
   ]
  },
  {
   "cell_type": "markdown",
   "metadata": {},
   "source": [
    "## My Solution\n",
    "```python\n",
    "import random\n",
    "class RandomizedSet:\n",
    "\n",
    "    def __init__(self):\n",
    "        self.set = []\n",
    "\n",
    "    def insert(self, val: int) -> bool:\n",
    "        if val in self.set:\n",
    "            return False\n",
    "        self.set.append(val)\n",
    "        return True\n",
    "\n",
    "    def remove(self, val: int) -> bool:\n",
    "        if val in self.set:\n",
    "            self.set.remove(val)\n",
    "            return True\n",
    "        return False\n",
    "\n",
    "    def getRandom(self) -> int:\n",
    "        return random.choice(self.set)\n",
    "```\n",
    "\n",
    "Overall easy, but felt like using ```import random``` was cheating. I will check other solutions as well."
   ]
  },
  {
   "cell_type": "markdown",
   "metadata": {},
   "source": [
    "Turns out that ```import random``` was the only way?"
   ]
  }
 ],
 "metadata": {
  "kernelspec": {
   "display_name": "Python 3",
   "language": "python",
   "name": "python3"
  },
  "language_info": {
   "codemirror_mode": {
    "name": "ipython",
    "version": 3
   },
   "file_extension": ".py",
   "mimetype": "text/x-python",
   "name": "python",
   "nbconvert_exporter": "python",
   "pygments_lexer": "ipython3",
   "version": "3.9.18"
  }
 },
 "nbformat": 4,
 "nbformat_minor": 2
}
