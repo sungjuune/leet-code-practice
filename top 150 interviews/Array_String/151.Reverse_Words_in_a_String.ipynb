{
 "cells": [
  {
   "cell_type": "markdown",
   "metadata": {},
   "source": [
    "## Description\n",
    "Given an input string ```s```, reverse the order of the **words**.\n",
    "\n",
    "A **word** is defined as a sequence of non-space characters. The **words** in ```s``` will be separated by at least one space.\n",
    "\n",
    "Return a string of the words in reverse order concatenated by a single space.\n",
    "\n",
    "**Note** that ```s``` may contain leading or trailing spaces or multiple spaces between two words. The returned string should only have a single space separating the words. Do not include any extra spaces."
   ]
  },
  {
   "cell_type": "markdown",
   "metadata": {},
   "source": [
    "## Examples\n",
    "### Example 1.\n",
    "Input: s = \"the sky is blue\"\n",
    "\n",
    "Output: \"blue is sky the\"\n",
    "\n",
    "### Example 2.\n",
    "Input: s = \"  hello world  \"\n",
    "\n",
    "Output: \"world hello\"\n",
    "\n",
    "Explanation: Your reversed string should not contain leading or trailing spaces.\n",
    "\n",
    "### Example 3. \n",
    "Input: s = \"a good   example\"\n",
    "\n",
    "Output: \"example good a\"\n",
    "\n",
    "Explanation: You need to reduce multiple spaces between two words to a single space in the reversed string."
   ]
  },
  {
   "cell_type": "markdown",
   "metadata": {},
   "source": [
    "## My Solution\n",
    "```python\n",
    "class Solution:\n",
    "    def reverseWords(self, s: str) -> str:\n",
    "        s = s.split(' ')\n",
    "        s.reverse()\n",
    "        s = [word for word in s if word!='']\n",
    "        res = ' '.join(s)\n",
    "        return res\n",
    "```\n",
    "First thought of ```.rstrip``` and ```.lstrip``` to remove spaces on each ends, but ```s = [word for word in s if word!='']``` removes all the spaces in the string! Then, converted the list back to string with ```.join```.\n",
    "\n",
    "## Other Solution\n",
    "```python\n",
    "class Solution(object):\n",
    "    def reverseWords(self, s):\n",
    "        length = len(s)\n",
    "        word_positions = []  # To store start and end indices of words\n",
    "        \n",
    "        i = 0\n",
    "        # Iterate through the string to identify word boundaries\n",
    "        while i < length:\n",
    "            # Skip leading spaces\n",
    "            while i < length and s[i] == ' ':\n",
    "                i += 1\n",
    "            if i == length:\n",
    "                break\n",
    "            \n",
    "            start = i  # Start of the word\n",
    "            \n",
    "            # Move to the end of the word\n",
    "            while i < length and s[i] != ' ':\n",
    "                i += 1\n",
    "            end = i - 1  # End of the word\n",
    "            \n",
    "            # Store the start and end indices of the word\n",
    "            word_positions.append((start, end))\n",
    "        \n",
    "        result = []\n",
    "        # Reverse the order of the words and build the result string\n",
    "        for start, end in reversed(word_positions):\n",
    "            word = s[start:end + 1]\n",
    "            result.append(word)\n",
    "        \n",
    "        return ' '.join(result)\n",
    "```"
   ]
  }
 ],
 "metadata": {
  "kernelspec": {
   "display_name": "Python 3",
   "language": "python",
   "name": "python3"
  },
  "language_info": {
   "codemirror_mode": {
    "name": "ipython",
    "version": 3
   },
   "file_extension": ".py",
   "mimetype": "text/x-python",
   "name": "python",
   "nbconvert_exporter": "python",
   "pygments_lexer": "ipython3",
   "version": "3.9.18"
  }
 },
 "nbformat": 4,
 "nbformat_minor": 2
}
