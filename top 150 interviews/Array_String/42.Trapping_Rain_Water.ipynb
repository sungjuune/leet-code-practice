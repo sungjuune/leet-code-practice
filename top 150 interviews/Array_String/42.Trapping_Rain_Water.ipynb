{
 "cells": [
  {
   "cell_type": "markdown",
   "metadata": {},
   "source": [
    "## Description\n",
    "Given ```n``` non-negative integers representing an elevation map where the width of each bar is ```1```, compute how much water it can trap after raining."
   ]
  },
  {
   "cell_type": "markdown",
   "metadata": {},
   "source": [
    "## Examples\n",
    "### Example 1.\n",
    "Input: height = [0,1,0,2,1,0,1,3,2,1,2,1]\n",
    "\n",
    "Output: 6\n",
    "\n",
    "Explanation: The above elevation map (black section) is represented by array [0,1,0,2,1,0,1,3,2,1,2,1]. In this case, 6 units of rain water (blue section) are being trapped.\n",
    "\n",
    "### Example 2.\n",
    "Input: height = [4,2,0,3,2,5]\n",
    "\n",
    "Output: 9"
   ]
  },
  {
   "cell_type": "markdown",
   "metadata": {},
   "source": [
    "## My Solution\n",
    "```python\n",
    "class Solution:\n",
    "    def trap(self, height) -> int:\n",
    "        if len(height)<=2:\n",
    "            return 0\n",
    "        height_set = set(height)\n",
    "        water = 0\n",
    "\n",
    "        while len(height_set) != 0:\n",
    "            current_height = max(height_set)\n",
    "            if current_height == 0:\n",
    "                break\n",
    "\n",
    "            indexes = [idx for idx,val in enumerate(height) if val==current_height]\n",
    "\n",
    "            if len(indexes)==1:\n",
    "                height_set.remove(current_height)\n",
    "                height[indexes[0]] = max(height_set)\n",
    "                continue\n",
    "            if len(indexes)==len(height):\n",
    "                break\n",
    "            \n",
    "            add = sum([indexes[idx+1]-indexes[idx]-1 for idx in range(len(indexes)-1)])\n",
    "            water += add\n",
    "            height_set.remove(current_height)\n",
    "            if current_height-1 != max(height_set):\n",
    "                add = (current_height - max(height_set) -1) * add\n",
    "                water += add \n",
    "                \n",
    "            for idx in indexes:\n",
    "                height[idx] = max(height_set)\n",
    "        return water\n",
    "```\n",
    "Best solution I could think of.. but was caught at 318/323 due to time limit..."
   ]
  }
 ],
 "metadata": {
  "kernelspec": {
   "display_name": "Python 3",
   "language": "python",
   "name": "python3"
  },
  "language_info": {
   "codemirror_mode": {
    "name": "ipython",
    "version": 3
   },
   "file_extension": ".py",
   "mimetype": "text/x-python",
   "name": "python",
   "nbconvert_exporter": "python",
   "pygments_lexer": "ipython3",
   "version": "3.9.18"
  }
 },
 "nbformat": 4,
 "nbformat_minor": 2
}
