{
 "cells": [
  {
   "cell_type": "markdown",
   "metadata": {},
   "source": [
    "## Description\n",
    "Given an integer array ```nums```, return an array ```answer``` such that ```answer[i]``` is equal to the product of all the elements of ```nums``` except ```nums[i]```.\n",
    "\n",
    "The product of any prefix or suffix of ```nums``` is guaranteed to fit in a 32-bit integer.\n",
    "\n",
    "You must write an algorithm that runs in ```O(n)``` time and without using the division operation."
   ]
  },
  {
   "cell_type": "markdown",
   "metadata": {},
   "source": [
    "## Examples\n",
    "### Example 1.\n",
    "Input: nums = [1,2,3,4]\n",
    "\n",
    "Output: [24,12,8,6]\n",
    "\n",
    "### Example 2.\n",
    "Input: nums = [-1,1,0,-3,3]\n",
    "\n",
    "Output: [0,0,9,0,0]"
   ]
  },
  {
   "cell_type": "markdown",
   "metadata": {},
   "source": [
    "## My Solutions\n",
    "\n",
    "```python\n",
    "\n",
    "from functools import reduce\n",
    "def func(nums):\n",
    "    result = []\n",
    "    for idx in range(len(nums)):\n",
    "        tmp = nums.copy()\n",
    "        tmp.pop(idx)\n",
    "        result.append(reduce((lambda x, y: x * y), tmp))\n",
    "    return result\n",
    "```\n",
    "\n",
    "```python\n",
    "from itertools import accumulate\n",
    "def func(nums):\n",
    "    result = []\n",
    "    for idx in range(len(nums)):\n",
    "        tmp = nums.copy()\n",
    "        tmp.pop(idx)\n",
    "        result.append(list(accumulate(tmp, (lambda x, y: x * y)))[-1])\n",
    "    return result\n",
    "```\n",
    "\n",
    "```python\n",
    "from functools import reduce\n",
    "def func(nums):\n",
    "    result = [0] * len(nums)\n",
    "    for idx in range((len(nums)//2)+1):\n",
    "        tmp_1 = nums.copy()\n",
    "        tmp_1.pop(idx)\n",
    "        result[idx] = reduce((lambda x, y: x * y), tmp_1)\n",
    "        if idx != len(nums)//2:\n",
    "            tmp_2 = nums.copy()\n",
    "            tmp_2.pop(-(idx+1))\n",
    "            result[-(idx+1)] = reduce((lambda x, y: x * y), tmp_2)\n",
    "    return result\n",
    "```"
   ]
  },
  {
   "cell_type": "markdown",
   "metadata": {},
   "source": [
    "## Correct Solution\n",
    "```python\n",
    "nums= [1,2,3,4]\n",
    "n = len(nums)\n",
    "        \n",
    "prefix = [1] * n\n",
    "suffix = [1] * n\n",
    "\n",
    "for i in range(1, n):\n",
    "    prefix[i] = prefix[i - 1] * nums[i - 1]\n",
    "\n",
    "for i in range(n - 2, -1, -1):\n",
    "    suffix[i] = suffix[i + 1] * nums[i + 1]\n",
    "```"
   ]
  },
  {
   "cell_type": "markdown",
   "metadata": {},
   "source": []
  }
 ],
 "metadata": {
  "kernelspec": {
   "display_name": "Python 3",
   "language": "python",
   "name": "python3"
  },
  "language_info": {
   "codemirror_mode": {
    "name": "ipython",
    "version": 3
   },
   "file_extension": ".py",
   "mimetype": "text/x-python",
   "name": "python",
   "nbconvert_exporter": "python",
   "pygments_lexer": "ipython3",
   "version": "3.7.16"
  }
 },
 "nbformat": 4,
 "nbformat_minor": 2
}
