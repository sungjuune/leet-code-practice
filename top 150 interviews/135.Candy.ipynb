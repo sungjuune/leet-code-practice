{
 "cells": [
  {
   "cell_type": "markdown",
   "metadata": {},
   "source": [
    "## Description\n",
    "There are ```n``` children standing in a line. Each child is assigned a ```rating``` value given in the integer array ```ratings```.\n",
    "\n",
    "You are giving candies to these children subjected to the following requirements:\n",
    "\n",
    "Each child must have at least one candy. \\\n",
    "Children with a higher rating get more candies than their neighbors. \\\n",
    "Return the minimum number of candies you need to have to distribute the candies to the children."
   ]
  },
  {
   "cell_type": "markdown",
   "metadata": {},
   "source": [
    "## Examples\n",
    "### Example 1.\n",
    "Input: ratings = [1,0,2]\n",
    "\n",
    "Output: 5\n",
    "\n",
    "Explanation: You can allocate to the first, second and third child with 2, 1, 2 candies respectively.\n",
    "\n",
    "### Example 2.\n",
    "Input: ratings = [1,2,2]\n",
    "\n",
    "Output: 4\n",
    "\n",
    "Explanation: You can allocate to the first, second and third child with 1, 2, 1 candies respectively. \\\n",
    "The third child gets 1 candy because it satisfies the above two conditions."
   ]
  },
  {
   "cell_type": "markdown",
   "metadata": {},
   "source": [
    "## My Solution\n",
    "```python\n",
    "class Solution:\n",
    "    def candy(self, ratings) -> int:\n",
    "        if len(ratings) == 1:\n",
    "            return 1\n",
    "        candies = [0]*len(ratings)\n",
    "        idx = 0\n",
    "        while idx != len(ratings)-1:\n",
    "            start_idx = idx\n",
    "            if ratings[idx] > ratings[idx+1]:\n",
    "                FLAG = -1\n",
    "            if ratings[idx] == ratings[idx+1]:\n",
    "                FLAG = 0\n",
    "            if ratings[idx] < ratings[idx+1]:\n",
    "                FLAG = 1\n",
    "\n",
    "            FLAG_SUB = FLAG\n",
    "            STREAK = [ratings[idx]]\n",
    "\n",
    "            while FLAG_SUB == FLAG:\n",
    "                idx += 1\n",
    "                STREAK.append(ratings[idx])\n",
    "                if idx == len(ratings)-1:\n",
    "                    break\n",
    "                if ratings[idx] > ratings[idx+1]:\n",
    "                    FLAG_SUB = -1\n",
    "                if ratings[idx] == ratings[idx+1]:\n",
    "                    FLAG_SUB = 0\n",
    "                if ratings[idx] < ratings[idx+1]:\n",
    "                    FLAG_SUB = 1\n",
    "\n",
    "            if FLAG == 0:\n",
    "                if start_idx == 0:\n",
    "                    candies[start_idx] = 1\n",
    "                candies[start_idx+1:idx+1] = [1]*(len(STREAK)-1)\n",
    "            else:\n",
    "                tmp = list(range(1, len(STREAK)+1))\n",
    "                if FLAG == -1:\n",
    "                    tmp.reverse()\n",
    "                candies[start_idx:idx+1] = list(map(max, zip(candies[start_idx:idx+1], tmp)))\n",
    "            \n",
    "        total_candies = sum(candies)\n",
    "        return total_candies\n",
    "```\n",
    "```list(map(max, zip(candies[start_idx:idx+1], tmp)))``` !!!"
   ]
  }
 ],
 "metadata": {
  "kernelspec": {
   "display_name": "Python 3",
   "language": "python",
   "name": "python3"
  },
  "language_info": {
   "codemirror_mode": {
    "name": "ipython",
    "version": 3
   },
   "file_extension": ".py",
   "mimetype": "text/x-python",
   "name": "python",
   "nbconvert_exporter": "python",
   "pygments_lexer": "ipython3",
   "version": "3.9.18"
  }
 },
 "nbformat": 4,
 "nbformat_minor": 2
}
