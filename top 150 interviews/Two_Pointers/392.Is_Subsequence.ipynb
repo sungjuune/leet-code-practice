{
 "cells": [
  {
   "cell_type": "markdown",
   "metadata": {},
   "source": [
    "## Description\n",
    "Given two strings ```s``` and ```t```, return true if ```s``` is a subsequence of t```, or false otherwise.\n",
    "\n",
    "A subsequence of a string is a new string that is formed from the original string by deleting some (can be none) of the characters without disturbing the relative positions of the remaining characters. (i.e., \"ace\" is a subsequence of \"abcde\" while \"aec\" is not)."
   ]
  },
  {
   "cell_type": "markdown",
   "metadata": {},
   "source": [
    "## Examples\n",
    "### Example 1.\n",
    "Input: s = \"abc\", t = \"ahbgdc\"\n",
    "\n",
    "Output: true\n",
    "\n",
    "### Example 2.\n",
    "Input: s = \"axc\", t = \"ahbgdc\"\n",
    "\n",
    "Output: false"
   ]
  },
  {
   "cell_type": "markdown",
   "metadata": {},
   "source": [
    "## My Solution\n",
    "\n",
    "```python\n",
    "class Solution:\n",
    "    def isSubsequence(self, s: str, t: str) -> bool:\n",
    "        if s in t:\n",
    "            return True\n",
    "        order = []\n",
    "        for alpha in s:\n",
    "            order.append(t.find(alpha))\n",
    "        print(order)\n",
    "        print(sorted(list(set(order))))\n",
    "        if -1 in order:\n",
    "            return False\n",
    "        if order == sorted(order) and order == sorted(list(set(order))):\n",
    "            return True\n",
    "        else:\n",
    "            return False\n",
    "```\n",
    "\n",
    "```python\n",
    "def isSubsequence(s: str, t: str) -> bool:\n",
    "    idx = 0\n",
    "    while idx != len(s)-1:\n",
    "        find_alpha = t.find(s[idx])\n",
    "        if find_alpha == -1:\n",
    "            return False\n",
    "        t = t[find_alpha+1:]\n",
    "        idx += 1\n",
    "    return True\n",
    "```"
   ]
  },
  {
   "cell_type": "markdown",
   "metadata": {},
   "source": []
  }
 ],
 "metadata": {
  "kernelspec": {
   "display_name": "Python 3",
   "language": "python",
   "name": "python3"
  },
  "language_info": {
   "codemirror_mode": {
    "name": "ipython",
    "version": 3
   },
   "file_extension": ".py",
   "mimetype": "text/x-python",
   "name": "python",
   "nbconvert_exporter": "python",
   "pygments_lexer": "ipython3",
   "version": "3.9.18"
  }
 },
 "nbformat": 4,
 "nbformat_minor": 2
}
