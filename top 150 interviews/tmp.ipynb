{
 "cells": [
  {
   "cell_type": "code",
   "execution_count": 47,
   "metadata": {},
   "outputs": [
    {
     "name": "stdout",
     "output_type": "stream",
     "text": [
      "[1, 0, 2, 2, 4, 3, 2]\n",
      "\n",
      "idx: 0\n",
      "ratings: 1\n",
      "\n",
      "idx: 1\n",
      "ratings: 0\n",
      "False\n",
      "False\n",
      "\n",
      "idx: 2\n",
      "ratings: 2\n",
      "True\n",
      "False\n",
      "\n",
      "idx: 3\n",
      "ratings: 2\n",
      "False\n",
      "False\n",
      "\n",
      "idx: 4\n",
      "ratings: 4\n",
      "True\n",
      "True\n",
      "\n",
      "idx: 5\n",
      "ratings: 3\n",
      "False\n",
      "True\n",
      "\n",
      "idx: 6\n",
      "ratings: 2\n"
     ]
    }
   ],
   "source": [
    "# ratings = [1,0,2]\n",
    "# ratings = [1,2,2]\n",
    "\n",
    "ratings = [1,0,2,2,4,3,2]\n",
    "candy = [1]* len(ratings)\n",
    "flow_val = 1\n",
    "print(ratings)\n",
    "for idx in range(len(ratings)):\n",
    "    print()\n",
    "    print(\"idx:\",idx)\n",
    "    print(\"ratings:\",ratings[idx])\n",
    "    if idx == 0:\n",
    "        RIGHT_FLAG = ratings[idx] > ratings[idx+1]\n",
    "        if RIGHT_FLAG:\n",
    "            candy[idx] += 1\n",
    "        continue\n",
    "    \n",
    "    if idx == len(ratings)-1:\n",
    "        LEFT_FLAG = ratings[idx-1] < ratings[idx]\n",
    "        if LEFT_FLAG:\n",
    "            candy[idx] += 1\n",
    "        continue\n",
    "\n",
    "    LEFT_FLAG = ratings[idx-1] < ratings[idx]\n",
    "    RIGHT_FLAG = ratings[idx] > ratings[idx+1]\n",
    "    print(LEFT_FLAG)\n",
    "    print(RIGHT_FLAG)\n",
    "\n",
    "    if LEFT_FLAG or RIGHT_FLAG:\n",
    "        candy[idx] += 1\n",
    "\n",
    "# [2, 1, 2, 1, 3, 2, 1]"
   ]
  },
  {
   "cell_type": "code",
   "execution_count": 48,
   "metadata": {},
   "outputs": [
    {
     "data": {
      "text/plain": [
       "[2, 1, 2, 1, 2, 2, 1]"
      ]
     },
     "execution_count": 48,
     "metadata": {},
     "output_type": "execute_result"
    }
   ],
   "source": [
    "candy"
   ]
  },
  {
   "cell_type": "code",
   "execution_count": 49,
   "metadata": {},
   "outputs": [
    {
     "data": {
      "text/plain": [
       "[1, 0, 2, 2, 4, 3, 2]"
      ]
     },
     "execution_count": 49,
     "metadata": {},
     "output_type": "execute_result"
    }
   ],
   "source": [
    "ratings"
   ]
  },
  {
   "cell_type": "code",
   "execution_count": null,
   "metadata": {},
   "outputs": [],
   "source": []
  }
 ],
 "metadata": {
  "kernelspec": {
   "display_name": "Python 3",
   "language": "python",
   "name": "python3"
  },
  "language_info": {
   "codemirror_mode": {
    "name": "ipython",
    "version": 3
   },
   "file_extension": ".py",
   "mimetype": "text/x-python",
   "name": "python",
   "nbconvert_exporter": "python",
   "pygments_lexer": "ipython3",
   "version": "3.9.18"
  }
 },
 "nbformat": 4,
 "nbformat_minor": 2
}
