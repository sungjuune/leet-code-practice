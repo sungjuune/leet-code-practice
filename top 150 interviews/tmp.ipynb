{
 "cells": [
  {
   "cell_type": "code",
   "execution_count": 15,
   "metadata": {},
   "outputs": [],
   "source": [
    "a = [1,2,3,4]"
   ]
  },
  {
   "cell_type": "code",
   "execution_count": null,
   "metadata": {},
   "outputs": [],
   "source": [
    "for idx, val in enumerate(a):\n",
    "    0,1 \n"
   ]
  },
  {
   "cell_type": "code",
   "execution_count": 22,
   "metadata": {},
   "outputs": [
    {
     "data": {
      "text/plain": [
       "[1, 2, 3, 4]"
      ]
     },
     "execution_count": 22,
     "metadata": {},
     "output_type": "execute_result"
    }
   ],
   "source": [
    "a"
   ]
  },
  {
   "cell_type": "code",
   "execution_count": 23,
   "metadata": {},
   "outputs": [],
   "source": [
    "from functools import reduce\n",
    "w = reduce((lambda x, y: x * y), a)"
   ]
  },
  {
   "cell_type": "code",
   "execution_count": 24,
   "metadata": {},
   "outputs": [
    {
     "data": {
      "text/plain": [
       "24"
      ]
     },
     "execution_count": 24,
     "metadata": {},
     "output_type": "execute_result"
    }
   ],
   "source": [
    "w"
   ]
  },
  {
   "cell_type": "code",
   "execution_count": 25,
   "metadata": {},
   "outputs": [],
   "source": [
    "from functools import reduce\n",
    "def func(nums):\n",
    "    result = []\n",
    "    for idx in range(len(nums)):\n",
    "        tmp = nums.copy()\n",
    "        tmp.pop(idx)\n",
    "        result.append(reduce((lambda x, y: x * y), tmp))\n",
    "    return result"
   ]
  },
  {
   "cell_type": "code",
   "execution_count": 38,
   "metadata": {},
   "outputs": [],
   "source": [
    "from itertools import accumulate\n",
    "def func(nums):\n",
    "    result = []\n",
    "    for idx in range(len(nums)):\n",
    "        tmp = nums.copy()\n",
    "        tmp.pop(idx)\n",
    "        result.append(list(accumulate(tmp, (lambda x, y: x * y)))[-1])\n",
    "    return result"
   ]
  },
  {
   "cell_type": "code",
   "execution_count": 42,
   "metadata": {},
   "outputs": [],
   "source": [
    "def func(nums):\n",
    "    total = reduce((lambda x, y: x * y), nums)\n",
    "    result = [int(total/nums[i]) for i in range(len(nums))]\n",
    "    return result"
   ]
  },
  {
   "cell_type": "code",
   "execution_count": 51,
   "metadata": {},
   "outputs": [],
   "source": [
    "from functools import reduce\n",
    "def func(nums):\n",
    "    zero_idx = [i for i, v in enumerate(nums) if v == 0]\n",
    "    if len(zero_idx) >= 2:\n",
    "        return [0] * len(nums)\n",
    "    if len(zero_idx) == 1:\n",
    "        result = [0] * len(nums)\n",
    "        tmp = nums.copy()\n",
    "        tmp.pop(zero_idx[0])\n",
    "        result[zero_idx[0]] = reduce((lambda x, y: x * y), tmp)\n",
    "        return result\n",
    "    \n",
    "    result = []\n",
    "    for idx in range(len(nums)):\n",
    "        tmp = nums.copy()\n",
    "        tmp.pop(idx)\n",
    "        result.append(reduce((lambda x, y: x * y), tmp))\n",
    "    return result"
   ]
  },
  {
   "cell_type": "code",
   "execution_count": 53,
   "metadata": {},
   "outputs": [
    {
     "data": {
      "text/plain": [
       "[0, 0, 0, 0]"
      ]
     },
     "execution_count": 53,
     "metadata": {},
     "output_type": "execute_result"
    }
   ],
   "source": [
    "func([0,2,0,4])"
   ]
  },
  {
   "cell_type": "code",
   "execution_count": null,
   "metadata": {},
   "outputs": [],
   "source": [
    "0,0,3,0,0\n",
    "0,1,2,3\n",
    "2,2,4,2,2\n",
    "2,0,2,0,2"
   ]
  }
 ],
 "metadata": {
  "kernelspec": {
   "display_name": "Python 3",
   "language": "python",
   "name": "python3"
  },
  "language_info": {
   "codemirror_mode": {
    "name": "ipython",
    "version": 3
   },
   "file_extension": ".py",
   "mimetype": "text/x-python",
   "name": "python",
   "nbconvert_exporter": "python",
   "pygments_lexer": "ipython3",
   "version": "3.9.18"
  }
 },
 "nbformat": 4,
 "nbformat_minor": 2
}
