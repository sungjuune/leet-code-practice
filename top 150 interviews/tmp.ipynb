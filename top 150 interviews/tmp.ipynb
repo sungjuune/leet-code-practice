{
 "cells": [
  {
   "cell_type": "code",
   "execution_count": 15,
   "metadata": {},
   "outputs": [],
   "source": [
    "a = [1,2,3,4]"
   ]
  },
  {
   "cell_type": "code",
   "execution_count": null,
   "metadata": {},
   "outputs": [],
   "source": [
    "for idx, val in enumerate(a):\n",
    "    0,1 \n"
   ]
  },
  {
   "cell_type": "code",
   "execution_count": 22,
   "metadata": {},
   "outputs": [
    {
     "data": {
      "text/plain": [
       "[1, 2, 3, 4]"
      ]
     },
     "execution_count": 22,
     "metadata": {},
     "output_type": "execute_result"
    }
   ],
   "source": [
    "a"
   ]
  },
  {
   "cell_type": "code",
   "execution_count": 23,
   "metadata": {},
   "outputs": [],
   "source": [
    "from functools import reduce\n",
    "w = reduce((lambda x, y: x * y), a)"
   ]
  },
  {
   "cell_type": "code",
   "execution_count": 24,
   "metadata": {},
   "outputs": [
    {
     "data": {
      "text/plain": [
       "24"
      ]
     },
     "execution_count": 24,
     "metadata": {},
     "output_type": "execute_result"
    }
   ],
   "source": [
    "w"
   ]
  },
  {
   "cell_type": "code",
   "execution_count": 25,
   "metadata": {},
   "outputs": [],
   "source": [
    "from functools import reduce\n",
    "def func(nums):\n",
    "    result = []\n",
    "    for idx in range(len(nums)):\n",
    "        tmp = nums.copy()\n",
    "        tmp.pop(idx)\n",
    "        result.append(reduce((lambda x, y: x * y), tmp))\n",
    "    return result"
   ]
  },
  {
   "cell_type": "code",
   "execution_count": 38,
   "metadata": {},
   "outputs": [],
   "source": [
    "from itertools import accumulate\n",
    "def func(nums):\n",
    "    result = []\n",
    "    for idx in range(len(nums)):\n",
    "        tmp = nums.copy()\n",
    "        tmp.pop(idx)\n",
    "        result.append(list(accumulate(tmp, (lambda x, y: x * y)))[-1])\n",
    "    return result"
   ]
  },
  {
   "cell_type": "code",
   "execution_count": 42,
   "metadata": {},
   "outputs": [],
   "source": [
    "def func(nums):\n",
    "    total = reduce((lambda x, y: x * y), nums)\n",
    "    result = [int(total/nums[i]) for i in range(len(nums))]\n",
    "    return result"
   ]
  },
  {
   "cell_type": "code",
   "execution_count": 51,
   "metadata": {},
   "outputs": [],
   "source": [
    "from functools import reduce\n",
    "def func(nums):\n",
    "    zero_idx = [i for i, v in enumerate(nums) if v == 0]\n",
    "    if len(zero_idx) >= 2:\n",
    "        return [0] * len(nums)\n",
    "    if len(zero_idx) == 1:\n",
    "        result = [0] * len(nums)\n",
    "        tmp = nums.copy()\n",
    "        tmp.pop(zero_idx[0])\n",
    "        result[zero_idx[0]] = reduce((lambda x, y: x * y), tmp)\n",
    "        return result\n",
    "    \n",
    "    result = []\n",
    "    for idx in range(len(nums)):\n",
    "        tmp = nums.copy()\n",
    "        tmp.pop(idx)\n",
    "        result.append(reduce((lambda x, y: x * y), tmp))\n",
    "    return result"
   ]
  },
  {
   "cell_type": "code",
   "execution_count": 84,
   "metadata": {},
   "outputs": [],
   "source": [
    "from functools import reduce\n",
    "def func(nums):\n",
    "    result = [0] * len(nums)\n",
    "    for idx in range((len(nums)//2)+1):\n",
    "        tmp_1 = nums.copy()\n",
    "        tmp_1.pop(idx)\n",
    "        result[idx] = reduce((lambda x, y: x * y), tmp_1)\n",
    "        if idx != len(nums)//2:\n",
    "            tmp_2 = nums.copy()\n",
    "            tmp_2.pop(-(idx+1))\n",
    "            result[-(idx+1)] = reduce((lambda x, y: x * y), tmp_2)\n",
    "    return result"
   ]
  },
  {
   "cell_type": "code",
   "execution_count": 89,
   "metadata": {},
   "outputs": [
    {
     "data": {
      "text/plain": [
       "[24, 12, 8, 6]"
      ]
     },
     "execution_count": 89,
     "metadata": {},
     "output_type": "execute_result"
    }
   ],
   "source": [
    "func([1,2,3,4])\n"
   ]
  },
  {
   "cell_type": "code",
   "execution_count": null,
   "metadata": {},
   "outputs": [],
   "source": [
    "1     2  3     4\n",
    "a     b  c     d\n",
    "\n",
    "\n",
    "\n",
    "\n",
    "\n",
    "2 3 4  = 24\n",
    "1 2 3  = 6\n",
    "\n",
    "\n",
    "\n",
    "yz = 24\n",
    "xy = 6\n",
    "xyyz = 144\n",
    "\n",
    "xz = 144/y^2"
   ]
  },
  {
   "cell_type": "code",
   "execution_count": null,
   "metadata": {},
   "outputs": [],
   "source": [
    "1,2,3,4,5,6,7,8,9\n",
    "0 -1\n",
    "1 -2\n",
    "2 -3\n",
    "3 -4\n",
    "4 -5"
   ]
  }
 ],
 "metadata": {
  "kernelspec": {
   "display_name": "Python 3",
   "language": "python",
   "name": "python3"
  },
  "language_info": {
   "codemirror_mode": {
    "name": "ipython",
    "version": 3
   },
   "file_extension": ".py",
   "mimetype": "text/x-python",
   "name": "python",
   "nbconvert_exporter": "python",
   "pygments_lexer": "ipython3",
   "version": "3.9.18"
  }
 },
 "nbformat": 4,
 "nbformat_minor": 2
}
