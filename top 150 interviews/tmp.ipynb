{
 "cells": [
  {
   "cell_type": "code",
   "execution_count": 83,
   "metadata": {},
   "outputs": [],
   "source": [
    "dict_ = {\n",
    "    1: 'I',\n",
    "    5: 'V',\n",
    "    10: 'X',\n",
    "    50: 'L',\n",
    "    100: 'C',\n",
    "    500: 'D',\n",
    "    1000: 'M'}"
   ]
  },
  {
   "cell_type": "code",
   "execution_count": 93,
   "metadata": {},
   "outputs": [],
   "source": [
    "num = 58\n",
    "# MMMDCCXLIX"
   ]
  },
  {
   "cell_type": "code",
   "execution_count": 96,
   "metadata": {},
   "outputs": [],
   "source": [
    "roman = []\n",
    "for i in range(len(str(num))-1, -1, -1):\n",
    "    val = int(str(num / 10**i).split('.')[0][-1])\n",
    "    if val == 0:\n",
    "        continue\n",
    "    if val >= 5:\n",
    "        if val == 5:\n",
    "            roman.append(dict_[(10**i)*5])\n",
    "        if val == 9:\n",
    "            roman.append(dict_[(10**i)])\n",
    "            roman.append(dict_[(10**(i+1))])\n",
    "            continue\n",
    "        roman.append(dict_[(10**i)*5])\n",
    "        val -= 5\n",
    "    if val == 4:\n",
    "        roman.append(dict_[(10**i)])\n",
    "        roman.append(dict_[(10**i)*5])\n",
    "        continue\n",
    "    roman.append(dict_[10**i] * val)\n",
    "    "
   ]
  },
  {
   "cell_type": "code",
   "execution_count": 97,
   "metadata": {},
   "outputs": [
    {
     "data": {
      "text/plain": [
       "['L', 'L', '', 'V', 'III']"
      ]
     },
     "execution_count": 97,
     "metadata": {},
     "output_type": "execute_result"
    }
   ],
   "source": [
    "roman"
   ]
  },
  {
   "cell_type": "code",
   "execution_count": null,
   "metadata": {},
   "outputs": [],
   "source": []
  }
 ],
 "metadata": {
  "kernelspec": {
   "display_name": "Python 3",
   "language": "python",
   "name": "python3"
  },
  "language_info": {
   "codemirror_mode": {
    "name": "ipython",
    "version": 3
   },
   "file_extension": ".py",
   "mimetype": "text/x-python",
   "name": "python",
   "nbconvert_exporter": "python",
   "pygments_lexer": "ipython3",
   "version": "3.9.18"
  }
 },
 "nbformat": 4,
 "nbformat_minor": 2
}
