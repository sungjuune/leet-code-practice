{
 "cells": [
  {
   "cell_type": "code",
   "execution_count": 4,
   "metadata": {},
   "outputs": [
    {
     "name": "stdout",
     "output_type": "stream",
     "text": [
      "4\n",
      "[4, 2, 0]\n",
      "4\n",
      "[0, 3]\n",
      "4\n",
      "[3, 2]\n",
      "4\n"
     ]
    },
    {
     "ename": "IndexError",
     "evalue": "list index out of range",
     "output_type": "error",
     "traceback": [
      "\u001b[0;31m---------------------------------------------------------------------------\u001b[0m",
      "\u001b[0;31mIndexError\u001b[0m                                Traceback (most recent call last)",
      "Cell \u001b[0;32mIn[4], line 24\u001b[0m\n\u001b[1;32m     21\u001b[0m idx \u001b[38;5;241m+\u001b[39m\u001b[38;5;241m=\u001b[39m \u001b[38;5;241m1\u001b[39m\n\u001b[1;32m     22\u001b[0m STREAK\u001b[38;5;241m.\u001b[39mappend(height[idx])\n\u001b[0;32m---> 24\u001b[0m \u001b[38;5;28;01mif\u001b[39;00m height[idx] \u001b[38;5;241m<\u001b[39m \u001b[43mheight\u001b[49m\u001b[43m[\u001b[49m\u001b[43midx\u001b[49m\u001b[38;5;241;43m+\u001b[39;49m\u001b[38;5;241;43m1\u001b[39;49m\u001b[43m]\u001b[49m:\n\u001b[1;32m     25\u001b[0m     FLAG_SUB \u001b[38;5;241m=\u001b[39m \u001b[38;5;241m1\u001b[39m\n\u001b[1;32m     26\u001b[0m \u001b[38;5;28;01mif\u001b[39;00m height[idx] \u001b[38;5;241m==\u001b[39m height[idx\u001b[38;5;241m+\u001b[39m\u001b[38;5;241m1\u001b[39m]:\n",
      "\u001b[0;31mIndexError\u001b[0m: list index out of range"
     ]
    }
   ],
   "source": [
    "height = [4,2,0,3,2,5] # -> 9\n",
    "idx = 0\n",
    "MAX = 0\n",
    "while True:\n",
    "    start_idx = idx\n",
    "\n",
    "    if height[idx] < height[idx+1]:\n",
    "        FLAG = 1\n",
    "    if height[idx] == height[idx+1]:\n",
    "        FLAG = 0\n",
    "    if height[idx] > height[idx+1]:\n",
    "        FLAG = -1\n",
    "        if MAX < height[idx]:\n",
    "            MAX = height[idx]\n",
    "    \n",
    "    print(MAX)\n",
    "\n",
    "    FLAG_SUB = FLAG\n",
    "    STREAK = [height[idx]]\n",
    "\n",
    "    while FLAG_SUB == FLAG:\n",
    "        idx += 1\n",
    "        STREAK.append(height[idx])\n",
    "\n",
    "        if height[idx] < height[idx+1]:\n",
    "            FLAG_SUB = 1\n",
    "        if height[idx] == height[idx+1]:\n",
    "            FLAG_SUB = 0\n",
    "        if height[idx] > height[idx+1]:\n",
    "            FLAG_SUB = -1\n",
    "        \n",
    "    \n",
    "    if start_idx == 0 and FLAG == 1:\n",
    "        continue\n",
    "    \n",
    "\n",
    "    print(STREAK)\n",
    "    "
   ]
  },
  {
   "cell_type": "code",
   "execution_count": 39,
   "metadata": {},
   "outputs": [
    {
     "name": "stdout",
     "output_type": "stream",
     "text": [
      "Initial HEIGHT =  [0, 1, 0, 2, 1, 0, 1, 3, 2, 1, 2, 1]\n",
      "Initial HEIGHT_SET =  {0, 1, 2, 3}\n",
      "\n",
      "Current Height =  3\n",
      "[7]\n",
      "\n",
      "Current Height =  2\n",
      "[3, 7, 8, 10]\n",
      "4\n",
      "[0, 1, 0, 1, 1, 0, 1, 1, 1, 1, 1, 1]\n",
      "\n",
      "Current Height =  1\n",
      "[1, 3, 4, 6, 7, 8, 9, 10, 11]\n",
      "6\n",
      "[0, 0, 0, 0, 0, 0, 0, 0, 0, 0, 0, 0]\n",
      "\n",
      "Current Height =  0\n",
      "[0, 1, 2, 3, 4, 5, 6, 7, 8, 9, 10, 11]\n"
     ]
    },
    {
     "ename": "ValueError",
     "evalue": "max() arg is an empty sequence",
     "output_type": "error",
     "traceback": [
      "\u001b[0;31m---------------------------------------------------------------------------\u001b[0m",
      "\u001b[0;31mValueError\u001b[0m                                Traceback (most recent call last)",
      "Cell \u001b[0;32mIn[39], line 23\u001b[0m\n\u001b[1;32m     21\u001b[0m water \u001b[38;5;241m+\u001b[39m\u001b[38;5;241m=\u001b[39m \u001b[38;5;28msum\u001b[39m([indexes[idx\u001b[38;5;241m+\u001b[39m\u001b[38;5;241m1\u001b[39m]\u001b[38;5;241m-\u001b[39mindexes[idx]\u001b[38;5;241m-\u001b[39m\u001b[38;5;241m1\u001b[39m \u001b[38;5;28;01mfor\u001b[39;00m idx \u001b[38;5;129;01min\u001b[39;00m \u001b[38;5;28mrange\u001b[39m(\u001b[38;5;28mlen\u001b[39m(indexes)\u001b[38;5;241m-\u001b[39m\u001b[38;5;241m1\u001b[39m)])\n\u001b[1;32m     22\u001b[0m height_set\u001b[38;5;241m.\u001b[39mremove(current_height)\n\u001b[0;32m---> 23\u001b[0m \u001b[38;5;28;01mif\u001b[39;00m \u001b[38;5;28;43mmax\u001b[39;49m\u001b[43m(\u001b[49m\u001b[43mheight_set\u001b[49m\u001b[43m)\u001b[49m \u001b[38;5;241m==\u001b[39m \u001b[38;5;241m0\u001b[39m \u001b[38;5;129;01mand\u001b[39;00m current_height \u001b[38;5;241m!=\u001b[39m \u001b[38;5;241m1\u001b[39m:\n\u001b[1;32m     24\u001b[0m     water \u001b[38;5;241m+\u001b[39m\u001b[38;5;241m=\u001b[39m \u001b[38;5;28msum\u001b[39m([indexes[idx\u001b[38;5;241m+\u001b[39m\u001b[38;5;241m1\u001b[39m]\u001b[38;5;241m-\u001b[39mindexes[idx]\u001b[38;5;241m-\u001b[39m\u001b[38;5;241m1\u001b[39m \u001b[38;5;28;01mfor\u001b[39;00m idx \u001b[38;5;129;01min\u001b[39;00m \u001b[38;5;28mrange\u001b[39m(\u001b[38;5;28mlen\u001b[39m(indexes)\u001b[38;5;241m-\u001b[39m\u001b[38;5;241m1\u001b[39m)])\n\u001b[1;32m     25\u001b[0m     \u001b[38;5;28;01mbreak\u001b[39;00m\n",
      "\u001b[0;31mValueError\u001b[0m: max() arg is an empty sequence"
     ]
    }
   ],
   "source": [
    "height = [4,2,0,3,2,5] # -> 9\n",
    "height = [0,1,0,2,1,0,1,3,2,1,2,1]\n",
    "height_set = set(height)\n",
    "water = 0\n",
    "\n",
    "print(\"Initial HEIGHT = \", height)\n",
    "print(\"Initial HEIGHT_SET = \", height_set)\n",
    "while len(height_set) != 0:\n",
    "    print()\n",
    "    current_height = max(height_set)\n",
    "    print(\"Current Height = \", current_height)\n",
    "\n",
    "    indexes = [idx for idx,val in enumerate(height) if val==current_height]\n",
    "\n",
    "    print(indexes)\n",
    "    if len(indexes)==1:\n",
    "        height_set.remove(current_height)\n",
    "        height[indexes[0]] = max(height_set)\n",
    "        continue\n",
    "    \n",
    "    water += sum([indexes[idx+1]-indexes[idx]-1 for idx in range(len(indexes)-1)])\n",
    "    height_set.remove(current_height)\n",
    "    if max(height_set) == 0:\n",
    "        water += sum([indexes[idx+1]-indexes[idx]-1 for idx in range(len(indexes)-1)])\n",
    "        break\n",
    "\n",
    "    for idx in indexes:\n",
    "        height[idx] = max(height_set)\n",
    "\n",
    "\n",
    "    print(water)\n",
    "\n",
    "    print(height)\n",
    "print(\"!!#$!#\")\n",
    "print(water)        "
   ]
  },
  {
   "cell_type": "code",
   "execution_count": 29,
   "metadata": {},
   "outputs": [],
   "source": [
    "a = [0,3,5,9]"
   ]
  },
  {
   "cell_type": "code",
   "execution_count": 30,
   "metadata": {},
   "outputs": [
    {
     "data": {
      "text/plain": [
       "[2, 1, 3]"
      ]
     },
     "execution_count": 30,
     "metadata": {},
     "output_type": "execute_result"
    }
   ],
   "source": [
    "[a[idx+1]-a[idx]-1 for idx in range(len(a)-1)]"
   ]
  },
  {
   "cell_type": "code",
   "execution_count": null,
   "metadata": {},
   "outputs": [],
   "source": []
  }
 ],
 "metadata": {
  "kernelspec": {
   "display_name": "Python 3",
   "language": "python",
   "name": "python3"
  },
  "language_info": {
   "codemirror_mode": {
    "name": "ipython",
    "version": 3
   },
   "file_extension": ".py",
   "mimetype": "text/x-python",
   "name": "python",
   "nbconvert_exporter": "python",
   "pygments_lexer": "ipython3",
   "version": "3.9.18"
  }
 },
 "nbformat": 4,
 "nbformat_minor": 2
}
