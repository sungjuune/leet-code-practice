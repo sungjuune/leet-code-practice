{
 "cells": [
  {
   "cell_type": "markdown",
   "metadata": {},
   "source": [
    "## Description\n",
    "Given an integer array ```nums```, rotate the array to the right by ```k``` steps, where ```k``` is non-negative."
   ]
  },
  {
   "cell_type": "markdown",
   "metadata": {},
   "source": [
    "## Examples\n",
    "### Example 1.\n",
    "Input: nums = [1,2,3,4,5,6,7], k = 3\n",
    "\n",
    "Output: [5,6,7,1,2,3,4]\n",
    "\n",
    "Explanation:\n",
    "\n",
    "rotate 1 steps to the right: [7,1,2,3,4,5,6]\n",
    "\n",
    "rotate 2 steps to the right: [6,7,1,2,3,4,5]\n",
    "\n",
    "rotate 3 steps to the right: [5,6,7,1,2,3,4]\n",
    "\n",
    "### Example 2.\n",
    "Input: nums = [-1,-100,3,99], k = 2\n",
    "\n",
    "Output: [3,99,-1,-100]\n",
    "\n",
    "Explanation: \n",
    "\n",
    "rotate 1 steps to the right: [99,-1,-100,3]\n",
    "\n",
    "rotate 2 steps to the right: [3,99,-1,-100]"
   ]
  },
  {
   "cell_type": "markdown",
   "metadata": {},
   "source": [
    "## My Solution\n",
    "```python\n",
    "class Solution:\n",
    "    def rotate(self, nums: List[int], k: int) -> None:\n",
    "        \"\"\"\n",
    "        Do not return anything, modify nums in-place instead.\n",
    "        \"\"\"\n",
    "        nums.extend(nums[:k])\n",
    "        for _ in range(k):\n",
    "            nums.pop(0)\n",
    "```\n",
    "This initial solution did not consider the cases where ```k > nums.length```. Had to change the indexing part!\n",
    "\n",
    "```python\n",
    "class Solution:\n",
    "    def rotate(self, nums: List[int], k: int) -> None:\n",
    "        \"\"\"\n",
    "        Do not return anything, modify nums in-place instead.\n",
    "        \"\"\"\n",
    "        slice = len(nums)-(k%len(nums))\n",
    "        nums.extend(nums[:slice])\n",
    "        for _ in range(slice):\n",
    "            nums.pop(0)\n",
    "```\n",
    "Even if ```k > nums.length```, the same list repeats over and over again, so I came up with **remainder** to make ```0<=k<nums.length```. This eventually solved all the testcases!"
   ]
  },
  {
   "cell_type": "markdown",
   "metadata": {},
   "source": [
    "## Other Solution\n",
    "```python\n",
    "class Solution:\n",
    "    def rotate(self, nums: List[int], k: int) -> None:\n",
    "        \"\"\"\n",
    "        Do not return anything, modify nums in-place instead.\n",
    "        \"\"\"\n",
    "        for _ in range(k%len(nums)):\n",
    "            temp = nums[-1]\n",
    "            nums.insert(0, temp)\n",
    "            del nums[-1]\n",
    "```\n",
    "This one used the ```insert``` and ```del``` function to repeatedly append and delete the elements one by one."
   ]
  }
 ],
 "metadata": {
  "kernelspec": {
   "display_name": "bitrap",
   "language": "python",
   "name": "python3"
  },
  "language_info": {
   "codemirror_mode": {
    "name": "ipython",
    "version": 3
   },
   "file_extension": ".py",
   "mimetype": "text/x-python",
   "name": "python",
   "nbconvert_exporter": "python",
   "pygments_lexer": "ipython3",
   "version": "3.7.16"
  }
 },
 "nbformat": 4,
 "nbformat_minor": 2
}
