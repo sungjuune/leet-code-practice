{
 "cells": [
  {
   "cell_type": "markdown",
   "metadata": {},
   "source": [
    "## Description\n",
    "Given two strings ```needle``` and ```haystack```, return the index of the first occurrence of ```needle``` in ```haystack```, or ```-1``` if ```needle``` is not part of ```haystack```."
   ]
  },
  {
   "cell_type": "markdown",
   "metadata": {},
   "source": [
    "## Examples\n",
    "### Example 1.\n",
    "Input: haystack = \"sadbutsad\", needle = \"sad\"\n",
    "\n",
    "Output: 0\n",
    "\n",
    "Explanation: \"sad\" occurs at index 0 and 6. The first occurrence is at index 0, so we return 0.\n",
    "\n",
    "### Example 2.\n",
    "Input: haystack = \"leetcode\", needle = \"leeto\"\n",
    "\n",
    "Output: -1\n",
    "\n",
    "Explanation: \"leeto\" did not occur in \"leetcode\", so we return -1."
   ]
  },
  {
   "cell_type": "markdown",
   "metadata": {},
   "source": [
    "## My Solution\n",
    "```python\n",
    "class Solution:\n",
    "    def strStr(self, haystack: str, needle: str) -> int:\n",
    "        idx = haystack.find(needle) if needle in haystack else -1\n",
    "        return idx\n",
    "```\n",
    "str.find()... how simple!"
   ]
  },
  {
   "cell_type": "markdown",
   "metadata": {},
   "source": []
  }
 ],
 "metadata": {
  "kernelspec": {
   "display_name": "bitrap",
   "language": "python",
   "name": "python3"
  },
  "language_info": {
   "codemirror_mode": {
    "name": "ipython",
    "version": 3
   },
   "file_extension": ".py",
   "mimetype": "text/x-python",
   "name": "python",
   "nbconvert_exporter": "python",
   "pygments_lexer": "ipython3",
   "version": "3.7.16"
  }
 },
 "nbformat": 4,
 "nbformat_minor": 2
}
