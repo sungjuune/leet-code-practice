{
 "cells": [
  {
   "cell_type": "markdown",
   "metadata": {},
   "source": [
    "## Description\n",
    "Write a function to find the longest common prefix string amongst an array of strings.\n",
    "\n",
    "If there is no common prefix, return an empty string ```\"\"```"
   ]
  },
  {
   "cell_type": "markdown",
   "metadata": {},
   "source": [
    "## Examples\n",
    "### Example 1.\n",
    "Input: strs = [\"flower\",\"flow\",\"flight\"]\n",
    "\n",
    "Output: \"fl\"\n",
    "\n",
    "### Example 2.\n",
    "Input: strs = [\"dog\",\"racecar\",\"car\"]\n",
    "\n",
    "Output: \"\"\n",
    "\n",
    "Explanation: There is no common prefix among the input strings."
   ]
  },
  {
   "cell_type": "markdown",
   "metadata": {},
   "source": [
    "## My Solution\n",
    "```python\n",
    "class Solution:\n",
    "    def longestCommonPrefix(self, strs: List[str]) -> str:\n",
    "        strs_combined = '-'.join(strs)\n",
    "        res = ''\n",
    "        char = ''\n",
    "        for c in strs[0]:\n",
    "            char = char + c\n",
    "            if strs_combined.count(f'-{char}') == len(strs)-1:\n",
    "                res = res + c\n",
    "            else:\n",
    "                break\n",
    "        return res\n",
    "```\n",
    "I combined the list of strings with ```-``` to avoid heavy for loop. Then looked up ```-{prefix}``` in the for loop of the characters in the first string!\n",
    "\n",
    "## Other Solution\n",
    "```python\n",
    "class Solution:\n",
    "    def longestCommonPrefix(self, v: List[str]) -> str:\n",
    "        ans=\"\"\n",
    "        v=sorted(v)\n",
    "        first=v[0]\n",
    "        last=v[-1]\n",
    "        for i in range(min(len(first),len(last))):\n",
    "            if(first[i]!=last[i]):\n",
    "                return ans\n",
    "            ans+=first[i]\n",
    "        return ans \n",
    "```\n",
    "This solution used ```sorted()```, but this does not sort the list length-wise... it sorts in alphabetical order. I believe the intention was to sort length-wise. "
   ]
  },
  {
   "cell_type": "markdown",
   "metadata": {},
   "source": []
  }
 ],
 "metadata": {
  "kernelspec": {
   "display_name": "bitrap",
   "language": "python",
   "name": "python3"
  },
  "language_info": {
   "codemirror_mode": {
    "name": "ipython",
    "version": 3
   },
   "file_extension": ".py",
   "mimetype": "text/x-python",
   "name": "python",
   "nbconvert_exporter": "python",
   "pygments_lexer": "ipython3",
   "version": "3.7.16"
  }
 },
 "nbformat": 4,
 "nbformat_minor": 2
}
