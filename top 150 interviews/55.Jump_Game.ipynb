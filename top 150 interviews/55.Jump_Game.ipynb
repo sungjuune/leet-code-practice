{
 "cells": [
  {
   "cell_type": "code",
   "execution_count": 175,
   "metadata": {},
   "outputs": [],
   "source": [
    "def canJump(nums):\n",
    "    if len(nums) == 1:\n",
    "        return True\n",
    "    idx = 0\n",
    "    while True:\n",
    "        r = len(nums)-idx-1\n",
    "        v = nums[idx]\n",
    "        sub = nums[idx+1:idx+v+1]\n",
    "        sub_r = [r-i for i in range(1,len(sub)+1)]\n",
    "        if any([i >= j for i, j in zip(sub, sub_r)]):\n",
    "            return True\n",
    "        if sum(sub) == 0:\n",
    "            return False\n",
    "        sub_idx = sub.index(next(filter(lambda x: x!=0, sub)))\n",
    "        idx += (sub_idx+1)"
   ]
  },
  {
   "cell_type": "code",
   "execution_count": 358,
   "metadata": {},
   "outputs": [],
   "source": [
    "def canJump(nums):\n",
    "    zero_idx = [i for i, v in enumerate(nums) if v == 0]\n",
    "    if len(zero_idx) == 0:\n",
    "        return True\n",
    "    if zero_idx[-1] == len(nums)-1:\n",
    "        zero_idx.pop()\n",
    "    if len(zero_idx) == 0:\n",
    "        return True\n",
    "    if len(nums) == 1:\n",
    "        return True\n",
    "    for idx in zero_idx:\n",
    "        print()\n",
    "        print(idx)\n",
    "        sub = nums[:idx]\n",
    "        print(sub)\n",
    "        sub_r = [idx-i for i in range(idx)]\n",
    "        print(sub_r)\n",
    "        if len(sub)>0 and max(sub) + nums.index(max(sub)) >= len(nums)-1:\n",
    "            return True\n",
    "        LEFT_FLAG = any([i > j for i, j in zip(sub, sub_r)])\n",
    "        RIGHT_FLAG = 0 not in nums[idx+1:]\n",
    "        print(LEFT_FLAG)\n",
    "        print(RIGHT_FLAG)\n",
    "        if LEFT_FLAG and RIGHT_FLAG:\n",
    "            return True\n",
    "    return False"
   ]
  },
  {
   "cell_type": "code",
   "execution_count": 359,
   "metadata": {},
   "outputs": [
    {
     "name": "stdout",
     "output_type": "stream",
     "text": [
      "\n",
      "1\n",
      "[1]\n",
      "[1]\n",
      "False\n",
      "False\n",
      "\n",
      "2\n",
      "[1, 0]\n",
      "[2, 1]\n",
      "False\n",
      "False\n",
      "\n",
      "7\n",
      "[1, 0, 0, 1, 1, 2, 2]\n",
      "[7, 6, 5, 4, 3, 2, 1]\n",
      "True\n",
      "True\n"
     ]
    },
    {
     "data": {
      "text/plain": [
       "True"
      ]
     },
     "execution_count": 359,
     "metadata": {},
     "output_type": "execute_result"
    }
   ],
   "source": [
    "canJump([1,0,0,1,1,2,2,0,2,2])"
   ]
  },
  {
   "cell_type": "code",
   "execution_count": 344,
   "metadata": {},
   "outputs": [
    {
     "data": {
      "text/plain": [
       "True"
      ]
     },
     "execution_count": 344,
     "metadata": {},
     "output_type": "execute_result"
    }
   ],
   "source": [
    "canJump([2,0])"
   ]
  },
  {
   "cell_type": "code",
   "execution_count": 333,
   "metadata": {},
   "outputs": [
    {
     "data": {
      "text/plain": [
       "True"
      ]
     },
     "execution_count": 333,
     "metadata": {},
     "output_type": "execute_result"
    }
   ],
   "source": [
    "canJump([2,0,0])"
   ]
  },
  {
   "cell_type": "code",
   "execution_count": 334,
   "metadata": {},
   "outputs": [
    {
     "data": {
      "text/plain": [
       "True"
      ]
     },
     "execution_count": 334,
     "metadata": {},
     "output_type": "execute_result"
    }
   ],
   "source": [
    "canJump([4,1,0,2,2,4,4,4,1,2])"
   ]
  },
  {
   "cell_type": "code",
   "execution_count": 335,
   "metadata": {},
   "outputs": [
    {
     "data": {
      "text/plain": [
       "False"
      ]
     },
     "execution_count": 335,
     "metadata": {},
     "output_type": "execute_result"
    }
   ],
   "source": [
    "canJump([3,0,4,0,0,0,0,1])"
   ]
  },
  {
   "cell_type": "code",
   "execution_count": 336,
   "metadata": {},
   "outputs": [
    {
     "data": {
      "text/plain": [
       "True"
      ]
     },
     "execution_count": 336,
     "metadata": {},
     "output_type": "execute_result"
    }
   ],
   "source": [
    "canJump([3,0,2,2,0,1,3])"
   ]
  },
  {
   "cell_type": "code",
   "execution_count": 337,
   "metadata": {},
   "outputs": [
    {
     "data": {
      "text/plain": [
       "False"
      ]
     },
     "execution_count": 337,
     "metadata": {},
     "output_type": "execute_result"
    }
   ],
   "source": [
    "canJump([0,2,3])"
   ]
  },
  {
   "cell_type": "code",
   "execution_count": 338,
   "metadata": {},
   "outputs": [
    {
     "data": {
      "text/plain": [
       "False"
      ]
     },
     "execution_count": 338,
     "metadata": {},
     "output_type": "execute_result"
    }
   ],
   "source": [
    "canJump([2,3,1,1,0,4])"
   ]
  },
  {
   "cell_type": "code",
   "execution_count": 339,
   "metadata": {},
   "outputs": [
    {
     "data": {
      "text/plain": [
       "True"
      ]
     },
     "execution_count": 339,
     "metadata": {},
     "output_type": "execute_result"
    }
   ],
   "source": [
    "canJump([2,3,1,1,4])"
   ]
  },
  {
   "cell_type": "code",
   "execution_count": 340,
   "metadata": {},
   "outputs": [
    {
     "data": {
      "text/plain": [
       "True"
      ]
     },
     "execution_count": 340,
     "metadata": {},
     "output_type": "execute_result"
    }
   ],
   "source": [
    "canJump([0])"
   ]
  },
  {
   "cell_type": "code",
   "execution_count": 341,
   "metadata": {},
   "outputs": [
    {
     "data": {
      "text/plain": [
       "False"
      ]
     },
     "execution_count": 341,
     "metadata": {},
     "output_type": "execute_result"
    }
   ],
   "source": [
    "canJump([3,3,1,1,0,4])"
   ]
  },
  {
   "cell_type": "code",
   "execution_count": 342,
   "metadata": {},
   "outputs": [
    {
     "data": {
      "text/plain": [
       "True"
      ]
     },
     "execution_count": 342,
     "metadata": {},
     "output_type": "execute_result"
    }
   ],
   "source": [
    "canJump([3,0,8,2,0,0,1])"
   ]
  },
  {
   "cell_type": "code",
   "execution_count": null,
   "metadata": {},
   "outputs": [],
   "source": []
  },
  {
   "cell_type": "code",
   "execution_count": null,
   "metadata": {},
   "outputs": [],
   "source": []
  },
  {
   "cell_type": "code",
   "execution_count": null,
   "metadata": {},
   "outputs": [],
   "source": []
  }
 ],
 "metadata": {
  "kernelspec": {
   "display_name": "bitrap",
   "language": "python",
   "name": "python3"
  },
  "language_info": {
   "codemirror_mode": {
    "name": "ipython",
    "version": 3
   },
   "file_extension": ".py",
   "mimetype": "text/x-python",
   "name": "python",
   "nbconvert_exporter": "python",
   "pygments_lexer": "ipython3",
   "version": "3.7.16"
  }
 },
 "nbformat": 4,
 "nbformat_minor": 2
}
