{
 "cells": [
  {
   "cell_type": "markdown",
   "metadata": {},
   "source": [
    "## Description\n",
    "\n",
    "There are ```n``` gas stations along a circular route, where the amount of gas at the ```ith``` station is ```gas[i]```.\n",
    "\n",
    "You have a car with an unlimited gas tank and it costs ```cost[i]``` of gas to travel from the ith station to its next ```(i + 1)th``` station. You begin the journey with an empty tank at one of the gas stations.\n",
    "\n",
    "Given two integer arrays ```gas``` and ```cost```, return the starting gas station's index if you can travel around the circuit once in the clockwise direction, otherwise return ```-1```. If there exists a solution, it is **guaranteed** to be **unique**.\n"
   ]
  },
  {
   "cell_type": "markdown",
   "metadata": {},
   "source": [
    "## Examples\n",
    "### Example 1.\n",
    "Input: gas = [1,2,3,4,5], cost = [3,4,5,1,2]\n",
    "\n",
    "Output: 3\n",
    "\n",
    "Explanation:\\\n",
    "Start at station 3 (index 3) and fill up with 4 unit of gas. Your tank = 0 + 4 = 4\\\n",
    "Travel to station 4. Your tank = 4 - 1 + 5 = 8\\\n",
    "Travel to station 0. Your tank = 8 - 2 + 1 = 7\\\n",
    "Travel to station 1. Your tank = 7 - 3 + 2 = 6\\\n",
    "Travel to station 2. Your tank = 6 - 4 + 3 = 5\\\n",
    "Travel to station 3. The cost is 5. Your gas is just enough to travel back to station 3.\\\n",
    "Therefore, return 3 as the starting index.\n",
    "\n",
    "### Example 2.\n",
    "Input: gas = [2,3,4], cost = [3,4,3]\n",
    "\n",
    "Output: -1\n",
    "\n",
    "Explanation:\\\n",
    "You can't start at station 0 or 1, as there is not enough gas to travel to the next station.\\\n",
    "Let's start at station 2 and fill up with 4 unit of gas. Your tank = 0 + 4 = 4\\\n",
    "Travel to station 0. Your tank = 4 - 3 + 2 = 3\\\n",
    "Travel to station 1. Your tank = 3 - 3 + 3 = 3\\\n",
    "You cannot travel back to station 2, as it requires 4 unit of gas but you only have 3.\\\n",
    "Therefore, you can't travel around the circuit once no matter where you start."
   ]
  },
  {
   "cell_type": "markdown",
   "metadata": {},
   "source": [
    "## My Solution\n",
    "```python\n",
    "start_options = [gas[i]>=cost[i] for i in range(len(gas))]\n",
    "start_options = list(filter(lambda x: start_options[x] == True, range(len(start_options))))\n",
    "\n",
    "gas.extend(gas)\n",
    "cost.extend(cost)\n",
    "\n",
    "result = -1\n",
    "for i in start_options:\n",
    "    gas_tmp = gas[i:i+LENGTH]\n",
    "    cost_tmp = cost[i:i+LENGTH]\n",
    "\n",
    "    current_gas = gas_tmp[0]\n",
    "    for stn in range(LENGTH):\n",
    "        current_gas = current_gas - cost_tmp[stn]\n",
    "        if current_gas < 0:\n",
    "            break\n",
    "        if stn == LENGTH - 1:\n",
    "            break\n",
    "        current_gas = current_gas + gas_tmp[stn+1]\n",
    "    if current_gas < 0:\n",
    "        continue\n",
    "    else:\n",
    "        result = i\n",
    "        break\n",
    "```\n",
    "\n",
    "This solution exceeded time limit in extreme case. Need revision."
   ]
  },
  {
   "cell_type": "code",
   "execution_count": null,
   "metadata": {},
   "outputs": [],
   "source": []
  }
 ],
 "metadata": {
  "kernelspec": {
   "display_name": "bitrap",
   "language": "python",
   "name": "python3"
  },
  "language_info": {
   "codemirror_mode": {
    "name": "ipython",
    "version": 3
   },
   "file_extension": ".py",
   "mimetype": "text/x-python",
   "name": "python",
   "nbconvert_exporter": "python",
   "pygments_lexer": "ipython3",
   "version": "3.9.18"
  }
 },
 "nbformat": 4,
 "nbformat_minor": 2
}
