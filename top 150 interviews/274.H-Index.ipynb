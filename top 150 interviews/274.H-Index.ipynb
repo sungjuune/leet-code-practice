{
 "cells": [
  {
   "cell_type": "markdown",
   "metadata": {},
   "source": [
    "## Description\n",
    "Given an array of integers ```citations``` where ```citations[i]``` is the number of ```citations``` a researcher received for their ```ith``` paper, return the researcher's h-index.\n",
    "\n",
    "According to the definition of h-index on Wikipedia: The h-index is defined as the maximum value of h such that the given researcher has published at least ```h``` papers that have each been cited at least ```h``` times."
   ]
  },
  {
   "cell_type": "markdown",
   "metadata": {},
   "source": [
    "## Examples\n",
    "### Example 1.\n",
    "Input: citations = [3,0,6,1,5]\n",
    "\n",
    "Output: 3\n",
    "\n",
    "Explanation: [3,0,6,1,5] means the researcher has 5 papers in total and each of them had received 3, 0, 6, 1, 5 citations respectively.\n",
    "\n",
    "Since the researcher has 3 papers with at least 3 citations each and the remaining two with no more than 3 citations each, their h-index is 3.\n",
    "\n",
    "### Example 2.\n",
    "Input: citations = [1,3,1]\n",
    "\n",
    "Output: 1"
   ]
  },
  {
   "cell_type": "markdown",
   "metadata": {},
   "source": [
    "## My Solution\n",
    "```python\n",
    "class Solution:\n",
    "    def hIndex(self, citations: List[int]) -> int:\n",
    "        citations.sort()\n",
    "        citations.reverse()\n",
    "        idx = list(range(1,len(citations)+1))\n",
    "        result = len([i for i, j in zip(citations, idx) if i >= j])\n",
    "        return result\n",
    "```\n",
    "Implementing itself wasn't much of a trouble. Understanding the concept of H-Index was the tricky part."
   ]
  }
 ],
 "metadata": {
  "kernelspec": {
   "display_name": "Python 3",
   "language": "python",
   "name": "python3"
  },
  "language_info": {
   "codemirror_mode": {
    "name": "ipython",
    "version": 3
   },
   "file_extension": ".py",
   "mimetype": "text/x-python",
   "name": "python",
   "nbconvert_exporter": "python",
   "pygments_lexer": "ipython3",
   "version": "3.9.18"
  }
 },
 "nbformat": 4,
 "nbformat_minor": 2
}
